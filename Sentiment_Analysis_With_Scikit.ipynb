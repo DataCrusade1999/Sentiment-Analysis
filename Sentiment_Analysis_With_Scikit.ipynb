{
  "nbformat": 4,
  "nbformat_minor": 0,
  "metadata": {
    "colab": {
      "name": "Sentiment Analysis With Scikit.ipynb",
      "provenance": [],
      "collapsed_sections": [],
      "authorship_tag": "ABX9TyOFOjnF08Yo7UFo/SVDGWLd",
      "include_colab_link": true
    },
    "kernelspec": {
      "name": "python3",
      "display_name": "Python 3"
    }
  },
  "cells": [
    {
      "cell_type": "markdown",
      "metadata": {
        "id": "view-in-github",
        "colab_type": "text"
      },
      "source": [
        "<a href=\"https://colab.research.google.com/github/DataCrusade1999/expert-winner/blob/main/Sentiment_Analysis_With_Scikit.ipynb\" target=\"_parent\"><img src=\"https://colab.research.google.com/assets/colab-badge.svg\" alt=\"Open In Colab\"/></a>"
      ]
    },
    {
      "cell_type": "code",
      "metadata": {
        "id": "nyhesJDs9-3Z"
      },
      "source": [
        "import io\n",
        "import pickle\n",
        "import numpy as np\n",
        "import pandas as pd\n",
        "import datetime\n",
        "from google.colab import files\n",
        "from sklearn.model_selection import train_test_split\n",
        "from sklearn.model_selection import GridSearchCV\n",
        "from sklearn.feature_extraction.text import CountVectorizer,TfidfVectorizer\n",
        "from sklearn.naive_bayes import GaussianNB\n",
        "from sklearn import svm\n",
        "from sklearn.tree import DecisionTreeClassifier\n",
        "from sklearn.linear_model import LogisticRegression\n",
        "from sklearn.metrics import f1_score"
      ],
      "execution_count": 1561,
      "outputs": []
    },
    {
      "cell_type": "markdown",
      "metadata": {
        "id": "Ht0mR3efLu1R"
      },
      "source": [
        "**LOADING DATA**"
      ]
    },
    {
      "cell_type": "code",
      "metadata": {
        "id": "XjVKp72oHXi8"
      },
      "source": [
        "url='https://raw.githubusercontent.com/DataCrusade1999/Python/master/Data/Books_small_10000.csv'"
      ],
      "execution_count": 1562,
      "outputs": []
    },
    {
      "cell_type": "code",
      "metadata": {
        "id": "UXrP4kMmIFJV",
        "outputId": "adf807e7-f6c5-4166-f98d-d76a0e45020a",
        "colab": {
          "base_uri": "https://localhost:8080/",
          "height": 279
        }
      },
      "source": [
        "Books_small=pd.read_csv(url)\n",
        "Books_small.head()"
      ],
      "execution_count": 1563,
      "outputs": [
        {
          "output_type": "execute_result",
          "data": {
            "text/html": [
              "<div>\n",
              "<style scoped>\n",
              "    .dataframe tbody tr th:only-of-type {\n",
              "        vertical-align: middle;\n",
              "    }\n",
              "\n",
              "    .dataframe tbody tr th {\n",
              "        vertical-align: top;\n",
              "    }\n",
              "\n",
              "    .dataframe thead th {\n",
              "        text-align: right;\n",
              "    }\n",
              "</style>\n",
              "<table border=\"1\" class=\"dataframe\">\n",
              "  <thead>\n",
              "    <tr style=\"text-align: right;\">\n",
              "      <th></th>\n",
              "      <th>reviewerID</th>\n",
              "      <th>asin</th>\n",
              "      <th>reviewerName</th>\n",
              "      <th>helpful/0</th>\n",
              "      <th>helpful/1</th>\n",
              "      <th>reviewText</th>\n",
              "      <th>overall</th>\n",
              "      <th>summary</th>\n",
              "      <th>unixReviewTime</th>\n",
              "      <th>reviewTime</th>\n",
              "    </tr>\n",
              "  </thead>\n",
              "  <tbody>\n",
              "    <tr>\n",
              "      <th>0</th>\n",
              "      <td>A1F2H80A1ZNN1N</td>\n",
              "      <td>B00GDM3NQC</td>\n",
              "      <td>Connie Correll</td>\n",
              "      <td>0</td>\n",
              "      <td>0</td>\n",
              "      <td>I bought both boxed sets, books 1-5.  Really a...</td>\n",
              "      <td>5</td>\n",
              "      <td>Can't stop reading!</td>\n",
              "      <td>1390435200</td>\n",
              "      <td>01 23, 2014</td>\n",
              "    </tr>\n",
              "    <tr>\n",
              "      <th>1</th>\n",
              "      <td>AI3DRTKCSK4KX</td>\n",
              "      <td>B00A5MREAM</td>\n",
              "      <td>Grandma</td>\n",
              "      <td>0</td>\n",
              "      <td>0</td>\n",
              "      <td>I enjoyed this short book. But it was way way ...</td>\n",
              "      <td>3</td>\n",
              "      <td>A leaf on the wind of all hallows</td>\n",
              "      <td>1399593600</td>\n",
              "      <td>05 9, 2014</td>\n",
              "    </tr>\n",
              "    <tr>\n",
              "      <th>2</th>\n",
              "      <td>A3KAKFHY9DAC8A</td>\n",
              "      <td>0446547573</td>\n",
              "      <td>toobusyreading \"Inspired Kathy\"</td>\n",
              "      <td>1</td>\n",
              "      <td>1</td>\n",
              "      <td>I love Nicholas Sparks. I&amp;#8217;ve read everyt...</td>\n",
              "      <td>4</td>\n",
              "      <td>Great writing from Nicholas Sparks.</td>\n",
              "      <td>1404518400</td>\n",
              "      <td>07 5, 2014</td>\n",
              "    </tr>\n",
              "    <tr>\n",
              "      <th>3</th>\n",
              "      <td>ATYBCYD6BIXVL</td>\n",
              "      <td>0955809215</td>\n",
              "      <td>Chrissie</td>\n",
              "      <td>0</td>\n",
              "      <td>0</td>\n",
              "      <td>I really enjoyed this adventure and look forwa...</td>\n",
              "      <td>4</td>\n",
              "      <td>great</td>\n",
              "      <td>1389225600</td>\n",
              "      <td>01 9, 2014</td>\n",
              "    </tr>\n",
              "    <tr>\n",
              "      <th>4</th>\n",
              "      <td>A17K95SEU3J68U</td>\n",
              "      <td>0991500776</td>\n",
              "      <td>Sirde \"artist761\"</td>\n",
              "      <td>0</td>\n",
              "      <td>0</td>\n",
              "      <td>It was a decent read.. typical story line. Not...</td>\n",
              "      <td>3</td>\n",
              "      <td>It was a decent read.. typical story line ...</td>\n",
              "      <td>1404864000</td>\n",
              "      <td>07 9, 2014</td>\n",
              "    </tr>\n",
              "  </tbody>\n",
              "</table>\n",
              "</div>"
            ],
            "text/plain": [
              "       reviewerID        asin  ... unixReviewTime   reviewTime\n",
              "0  A1F2H80A1ZNN1N  B00GDM3NQC  ...     1390435200  01 23, 2014\n",
              "1   AI3DRTKCSK4KX  B00A5MREAM  ...     1399593600   05 9, 2014\n",
              "2  A3KAKFHY9DAC8A  0446547573  ...     1404518400   07 5, 2014\n",
              "3   ATYBCYD6BIXVL  0955809215  ...     1389225600   01 9, 2014\n",
              "4  A17K95SEU3J68U  0991500776  ...     1404864000   07 9, 2014\n",
              "\n",
              "[5 rows x 10 columns]"
            ]
          },
          "metadata": {
            "tags": []
          },
          "execution_count": 1563
        }
      ]
    },
    {
      "cell_type": "markdown",
      "metadata": {
        "id": "_11GnmwYLzT-"
      },
      "source": [
        "**PERFORMING EDA**"
      ]
    },
    {
      "cell_type": "markdown",
      "metadata": {
        "id": "xzQQM_uiXP7R"
      },
      "source": [
        "**In the first case below, we say \"give us the values of the rows with index from 0 to 999 (inclusive) and columns labeled from \"reviewText\" to \"overall\" (inclusive)\". In the second case, we say \"give us the values of all the rows in the columns 5 to 7\" (as in a typical Python slice: the maximal value is not included).**"
      ]
    },
    {
      "cell_type": "code",
      "metadata": {
        "id": "4eNWEvMfTuGQ",
        "outputId": "27c99621-2bf6-4771-9282-a714f0df5037",
        "colab": {
          "base_uri": "https://localhost:8080/",
          "height": 402
        }
      },
      "source": [
        "Books_small.loc[0:,'reviewText':'overall']"
      ],
      "execution_count": 1564,
      "outputs": [
        {
          "output_type": "execute_result",
          "data": {
            "text/html": [
              "<div>\n",
              "<style scoped>\n",
              "    .dataframe tbody tr th:only-of-type {\n",
              "        vertical-align: middle;\n",
              "    }\n",
              "\n",
              "    .dataframe tbody tr th {\n",
              "        vertical-align: top;\n",
              "    }\n",
              "\n",
              "    .dataframe thead th {\n",
              "        text-align: right;\n",
              "    }\n",
              "</style>\n",
              "<table border=\"1\" class=\"dataframe\">\n",
              "  <thead>\n",
              "    <tr style=\"text-align: right;\">\n",
              "      <th></th>\n",
              "      <th>reviewText</th>\n",
              "      <th>overall</th>\n",
              "    </tr>\n",
              "  </thead>\n",
              "  <tbody>\n",
              "    <tr>\n",
              "      <th>0</th>\n",
              "      <td>I bought both boxed sets, books 1-5.  Really a...</td>\n",
              "      <td>5</td>\n",
              "    </tr>\n",
              "    <tr>\n",
              "      <th>1</th>\n",
              "      <td>I enjoyed this short book. But it was way way ...</td>\n",
              "      <td>3</td>\n",
              "    </tr>\n",
              "    <tr>\n",
              "      <th>2</th>\n",
              "      <td>I love Nicholas Sparks. I&amp;#8217;ve read everyt...</td>\n",
              "      <td>4</td>\n",
              "    </tr>\n",
              "    <tr>\n",
              "      <th>3</th>\n",
              "      <td>I really enjoyed this adventure and look forwa...</td>\n",
              "      <td>4</td>\n",
              "    </tr>\n",
              "    <tr>\n",
              "      <th>4</th>\n",
              "      <td>It was a decent read.. typical story line. Not...</td>\n",
              "      <td>3</td>\n",
              "    </tr>\n",
              "    <tr>\n",
              "      <th>...</th>\n",
              "      <td>...</td>\n",
              "      <td>...</td>\n",
              "    </tr>\n",
              "    <tr>\n",
              "      <th>9995</th>\n",
              "      <td>The whole series was great!  Melody is a fanta...</td>\n",
              "      <td>5</td>\n",
              "    </tr>\n",
              "    <tr>\n",
              "      <th>9996</th>\n",
              "      <td>I didn't thing that much of this book.  I am a...</td>\n",
              "      <td>3</td>\n",
              "    </tr>\n",
              "    <tr>\n",
              "      <th>9997</th>\n",
              "      <td>It is an emotional TRIP to the past with Trip ...</td>\n",
              "      <td>5</td>\n",
              "    </tr>\n",
              "    <tr>\n",
              "      <th>9998</th>\n",
              "      <td>This definitely got under my veins whereby I h...</td>\n",
              "      <td>5</td>\n",
              "    </tr>\n",
              "    <tr>\n",
              "      <th>9999</th>\n",
              "      <td>Highly recommend this entire trilogy. It is ve...</td>\n",
              "      <td>4</td>\n",
              "    </tr>\n",
              "  </tbody>\n",
              "</table>\n",
              "<p>10000 rows × 2 columns</p>\n",
              "</div>"
            ],
            "text/plain": [
              "                                             reviewText  overall\n",
              "0     I bought both boxed sets, books 1-5.  Really a...        5\n",
              "1     I enjoyed this short book. But it was way way ...        3\n",
              "2     I love Nicholas Sparks. I&#8217;ve read everyt...        4\n",
              "3     I really enjoyed this adventure and look forwa...        4\n",
              "4     It was a decent read.. typical story line. Not...        3\n",
              "...                                                 ...      ...\n",
              "9995  The whole series was great!  Melody is a fanta...        5\n",
              "9996  I didn't thing that much of this book.  I am a...        3\n",
              "9997  It is an emotional TRIP to the past with Trip ...        5\n",
              "9998  This definitely got under my veins whereby I h...        5\n",
              "9999  Highly recommend this entire trilogy. It is ve...        4\n",
              "\n",
              "[10000 rows x 2 columns]"
            ]
          },
          "metadata": {
            "tags": []
          },
          "execution_count": 1564
        }
      ]
    },
    {
      "cell_type": "code",
      "metadata": {
        "id": "MbOgkmgjSnfv",
        "outputId": "14d1360d-1e81-4570-c444-20cc684727f6",
        "colab": {
          "base_uri": "https://localhost:8080/",
          "height": 402
        }
      },
      "source": [
        "Books_small.iloc[0:,5:7]"
      ],
      "execution_count": 1565,
      "outputs": [
        {
          "output_type": "execute_result",
          "data": {
            "text/html": [
              "<div>\n",
              "<style scoped>\n",
              "    .dataframe tbody tr th:only-of-type {\n",
              "        vertical-align: middle;\n",
              "    }\n",
              "\n",
              "    .dataframe tbody tr th {\n",
              "        vertical-align: top;\n",
              "    }\n",
              "\n",
              "    .dataframe thead th {\n",
              "        text-align: right;\n",
              "    }\n",
              "</style>\n",
              "<table border=\"1\" class=\"dataframe\">\n",
              "  <thead>\n",
              "    <tr style=\"text-align: right;\">\n",
              "      <th></th>\n",
              "      <th>reviewText</th>\n",
              "      <th>overall</th>\n",
              "    </tr>\n",
              "  </thead>\n",
              "  <tbody>\n",
              "    <tr>\n",
              "      <th>0</th>\n",
              "      <td>I bought both boxed sets, books 1-5.  Really a...</td>\n",
              "      <td>5</td>\n",
              "    </tr>\n",
              "    <tr>\n",
              "      <th>1</th>\n",
              "      <td>I enjoyed this short book. But it was way way ...</td>\n",
              "      <td>3</td>\n",
              "    </tr>\n",
              "    <tr>\n",
              "      <th>2</th>\n",
              "      <td>I love Nicholas Sparks. I&amp;#8217;ve read everyt...</td>\n",
              "      <td>4</td>\n",
              "    </tr>\n",
              "    <tr>\n",
              "      <th>3</th>\n",
              "      <td>I really enjoyed this adventure and look forwa...</td>\n",
              "      <td>4</td>\n",
              "    </tr>\n",
              "    <tr>\n",
              "      <th>4</th>\n",
              "      <td>It was a decent read.. typical story line. Not...</td>\n",
              "      <td>3</td>\n",
              "    </tr>\n",
              "    <tr>\n",
              "      <th>...</th>\n",
              "      <td>...</td>\n",
              "      <td>...</td>\n",
              "    </tr>\n",
              "    <tr>\n",
              "      <th>9995</th>\n",
              "      <td>The whole series was great!  Melody is a fanta...</td>\n",
              "      <td>5</td>\n",
              "    </tr>\n",
              "    <tr>\n",
              "      <th>9996</th>\n",
              "      <td>I didn't thing that much of this book.  I am a...</td>\n",
              "      <td>3</td>\n",
              "    </tr>\n",
              "    <tr>\n",
              "      <th>9997</th>\n",
              "      <td>It is an emotional TRIP to the past with Trip ...</td>\n",
              "      <td>5</td>\n",
              "    </tr>\n",
              "    <tr>\n",
              "      <th>9998</th>\n",
              "      <td>This definitely got under my veins whereby I h...</td>\n",
              "      <td>5</td>\n",
              "    </tr>\n",
              "    <tr>\n",
              "      <th>9999</th>\n",
              "      <td>Highly recommend this entire trilogy. It is ve...</td>\n",
              "      <td>4</td>\n",
              "    </tr>\n",
              "  </tbody>\n",
              "</table>\n",
              "<p>10000 rows × 2 columns</p>\n",
              "</div>"
            ],
            "text/plain": [
              "                                             reviewText  overall\n",
              "0     I bought both boxed sets, books 1-5.  Really a...        5\n",
              "1     I enjoyed this short book. But it was way way ...        3\n",
              "2     I love Nicholas Sparks. I&#8217;ve read everyt...        4\n",
              "3     I really enjoyed this adventure and look forwa...        4\n",
              "4     It was a decent read.. typical story line. Not...        3\n",
              "...                                                 ...      ...\n",
              "9995  The whole series was great!  Melody is a fanta...        5\n",
              "9996  I didn't thing that much of this book.  I am a...        3\n",
              "9997  It is an emotional TRIP to the past with Trip ...        5\n",
              "9998  This definitely got under my veins whereby I h...        5\n",
              "9999  Highly recommend this entire trilogy. It is ve...        4\n",
              "\n",
              "[10000 rows x 2 columns]"
            ]
          },
          "metadata": {
            "tags": []
          },
          "execution_count": 1565
        }
      ]
    },
    {
      "cell_type": "code",
      "metadata": {
        "id": "XRoVuIVuK_-e",
        "outputId": "29c42f32-befc-426b-bab0-7c3fcc9c9c0c",
        "colab": {
          "base_uri": "https://localhost:8080/",
          "height": 34
        }
      },
      "source": [
        "Books_small.shape"
      ],
      "execution_count": 1566,
      "outputs": [
        {
          "output_type": "execute_result",
          "data": {
            "text/plain": [
              "(10000, 10)"
            ]
          },
          "metadata": {
            "tags": []
          },
          "execution_count": 1566
        }
      ]
    },
    {
      "cell_type": "code",
      "metadata": {
        "id": "-6YwDf4bPlIO",
        "outputId": "d1a588ca-f47b-4e98-b61f-5a9e629d4798",
        "colab": {
          "base_uri": "https://localhost:8080/",
          "height": 118
        }
      },
      "source": [
        "Books_small['overall'].value_counts() #<---Gives Us Number Of Occurences Of A Particular Value in Digits"
      ],
      "execution_count": 1567,
      "outputs": [
        {
          "output_type": "execute_result",
          "data": {
            "text/plain": [
              "5    5930\n",
              "4    2448\n",
              "3     978\n",
              "2     375\n",
              "1     269\n",
              "Name: overall, dtype: int64"
            ]
          },
          "metadata": {
            "tags": []
          },
          "execution_count": 1567
        }
      ]
    },
    {
      "cell_type": "code",
      "metadata": {
        "id": "C_BBsKPPQz9p",
        "outputId": "5dbdf544-0604-45c6-f1fd-9dc98d60db35",
        "colab": {
          "base_uri": "https://localhost:8080/",
          "height": 118
        }
      },
      "source": [
        "Books_small['overall'].value_counts(normalize=True)  #<---Gives Us Number Of Occurences Of A Particular Value in Fractions"
      ],
      "execution_count": 1568,
      "outputs": [
        {
          "output_type": "execute_result",
          "data": {
            "text/plain": [
              "5    0.5930\n",
              "4    0.2448\n",
              "3    0.0978\n",
              "2    0.0375\n",
              "1    0.0269\n",
              "Name: overall, dtype: float64"
            ]
          },
          "metadata": {
            "tags": []
          },
          "execution_count": 1568
        }
      ]
    },
    {
      "cell_type": "code",
      "metadata": {
        "id": "gQafMBEJRR23",
        "outputId": "6a08384f-334a-4e96-94bc-7de122258631",
        "colab": {
          "base_uri": "https://localhost:8080/",
          "height": 195
        }
      },
      "source": [
        "Books_small.sort_values(by='overall', ascending=False).head() #<--Starts From Big And Goes Down"
      ],
      "execution_count": 1569,
      "outputs": [
        {
          "output_type": "execute_result",
          "data": {
            "text/html": [
              "<div>\n",
              "<style scoped>\n",
              "    .dataframe tbody tr th:only-of-type {\n",
              "        vertical-align: middle;\n",
              "    }\n",
              "\n",
              "    .dataframe tbody tr th {\n",
              "        vertical-align: top;\n",
              "    }\n",
              "\n",
              "    .dataframe thead th {\n",
              "        text-align: right;\n",
              "    }\n",
              "</style>\n",
              "<table border=\"1\" class=\"dataframe\">\n",
              "  <thead>\n",
              "    <tr style=\"text-align: right;\">\n",
              "      <th></th>\n",
              "      <th>reviewerID</th>\n",
              "      <th>asin</th>\n",
              "      <th>reviewerName</th>\n",
              "      <th>helpful/0</th>\n",
              "      <th>helpful/1</th>\n",
              "      <th>reviewText</th>\n",
              "      <th>overall</th>\n",
              "      <th>summary</th>\n",
              "      <th>unixReviewTime</th>\n",
              "      <th>reviewTime</th>\n",
              "    </tr>\n",
              "  </thead>\n",
              "  <tbody>\n",
              "    <tr>\n",
              "      <th>0</th>\n",
              "      <td>A1F2H80A1ZNN1N</td>\n",
              "      <td>B00GDM3NQC</td>\n",
              "      <td>Connie Correll</td>\n",
              "      <td>0</td>\n",
              "      <td>0</td>\n",
              "      <td>I bought both boxed sets, books 1-5.  Really a...</td>\n",
              "      <td>5</td>\n",
              "      <td>Can't stop reading!</td>\n",
              "      <td>1390435200</td>\n",
              "      <td>01 23, 2014</td>\n",
              "    </tr>\n",
              "    <tr>\n",
              "      <th>5801</th>\n",
              "      <td>A1TZTFYEOPR4CO</td>\n",
              "      <td>1250037220</td>\n",
              "      <td>Brainchild</td>\n",
              "      <td>0</td>\n",
              "      <td>0</td>\n",
              "      <td>This was a great read. I really enjoyed this b...</td>\n",
              "      <td>5</td>\n",
              "      <td>Excellent read</td>\n",
              "      <td>1402617600</td>\n",
              "      <td>06 13, 2014</td>\n",
              "    </tr>\n",
              "    <tr>\n",
              "      <th>5797</th>\n",
              "      <td>AFE0AGQT50MBJ</td>\n",
              "      <td>1449417094</td>\n",
              "      <td>KV Trout</td>\n",
              "      <td>0</td>\n",
              "      <td>0</td>\n",
              "      <td>There I said it. So call me classless, tastele...</td>\n",
              "      <td>5</td>\n",
              "      <td>I like Thomas Kinkade's style</td>\n",
              "      <td>1396828800</td>\n",
              "      <td>04 7, 2014</td>\n",
              "    </tr>\n",
              "    <tr>\n",
              "      <th>5795</th>\n",
              "      <td>A2H0KFB0IUNRT7</td>\n",
              "      <td>B005REXCKE</td>\n",
              "      <td>Stanley C. Pate</td>\n",
              "      <td>0</td>\n",
              "      <td>0</td>\n",
              "      <td>I have to admit that I purchased this book thi...</td>\n",
              "      <td>5</td>\n",
              "      <td>A very enjoyable read!</td>\n",
              "      <td>1393545600</td>\n",
              "      <td>02 28, 2014</td>\n",
              "    </tr>\n",
              "    <tr>\n",
              "      <th>5794</th>\n",
              "      <td>A2YJ8VP1SSHJ7</td>\n",
              "      <td>B007YN8IGE</td>\n",
              "      <td>NFerguson</td>\n",
              "      <td>0</td>\n",
              "      <td>0</td>\n",
              "      <td>The bound series has always intrigued me. I lo...</td>\n",
              "      <td>5</td>\n",
              "      <td>Bound By The Night</td>\n",
              "      <td>1391040000</td>\n",
              "      <td>01 30, 2014</td>\n",
              "    </tr>\n",
              "  </tbody>\n",
              "</table>\n",
              "</div>"
            ],
            "text/plain": [
              "          reviewerID        asin  ... unixReviewTime   reviewTime\n",
              "0     A1F2H80A1ZNN1N  B00GDM3NQC  ...     1390435200  01 23, 2014\n",
              "5801  A1TZTFYEOPR4CO  1250037220  ...     1402617600  06 13, 2014\n",
              "5797   AFE0AGQT50MBJ  1449417094  ...     1396828800   04 7, 2014\n",
              "5795  A2H0KFB0IUNRT7  B005REXCKE  ...     1393545600  02 28, 2014\n",
              "5794   A2YJ8VP1SSHJ7  B007YN8IGE  ...     1391040000  01 30, 2014\n",
              "\n",
              "[5 rows x 10 columns]"
            ]
          },
          "metadata": {
            "tags": []
          },
          "execution_count": 1569
        }
      ]
    },
    {
      "cell_type": "code",
      "metadata": {
        "id": "zww7iquURslI",
        "outputId": "8d205675-bd8b-4a8d-b4fb-39ecca8885ce",
        "colab": {
          "base_uri": "https://localhost:8080/",
          "height": 279
        }
      },
      "source": [
        "Books_small.sort_values(by='overall', ascending=True).head() #<--Starts From Low And Goes Up"
      ],
      "execution_count": 1570,
      "outputs": [
        {
          "output_type": "execute_result",
          "data": {
            "text/html": [
              "<div>\n",
              "<style scoped>\n",
              "    .dataframe tbody tr th:only-of-type {\n",
              "        vertical-align: middle;\n",
              "    }\n",
              "\n",
              "    .dataframe tbody tr th {\n",
              "        vertical-align: top;\n",
              "    }\n",
              "\n",
              "    .dataframe thead th {\n",
              "        text-align: right;\n",
              "    }\n",
              "</style>\n",
              "<table border=\"1\" class=\"dataframe\">\n",
              "  <thead>\n",
              "    <tr style=\"text-align: right;\">\n",
              "      <th></th>\n",
              "      <th>reviewerID</th>\n",
              "      <th>asin</th>\n",
              "      <th>reviewerName</th>\n",
              "      <th>helpful/0</th>\n",
              "      <th>helpful/1</th>\n",
              "      <th>reviewText</th>\n",
              "      <th>overall</th>\n",
              "      <th>summary</th>\n",
              "      <th>unixReviewTime</th>\n",
              "      <th>reviewTime</th>\n",
              "    </tr>\n",
              "  </thead>\n",
              "  <tbody>\n",
              "    <tr>\n",
              "      <th>3419</th>\n",
              "      <td>AQY5XBYSENNZQ</td>\n",
              "      <td>1250006082</td>\n",
              "      <td>Quickbeam</td>\n",
              "      <td>3</td>\n",
              "      <td>3</td>\n",
              "      <td>Based upon the blurb alone, I thought this sou...</td>\n",
              "      <td>1</td>\n",
              "      <td>A leaden Edwardian slog.</td>\n",
              "      <td>1400544000</td>\n",
              "      <td>05 20, 2014</td>\n",
              "    </tr>\n",
              "    <tr>\n",
              "      <th>8649</th>\n",
              "      <td>A2PWDBZQPR9JU6</td>\n",
              "      <td>0399161465</td>\n",
              "      <td>Stacie Gorkow \"Sincerely Stacie\"</td>\n",
              "      <td>3</td>\n",
              "      <td>3</td>\n",
              "      <td>Rose is a typist in the local police precinct....</td>\n",
              "      <td>1</td>\n",
              "      <td>Couldn't Finish It - Just Didn't Work for Me</td>\n",
              "      <td>1398297600</td>\n",
              "      <td>04 24, 2014</td>\n",
              "    </tr>\n",
              "    <tr>\n",
              "      <th>2730</th>\n",
              "      <td>A9FIEIKKPTX89</td>\n",
              "      <td>B00HOHMIVQ</td>\n",
              "      <td>Steven M. Morris \"booklover\"</td>\n",
              "      <td>6</td>\n",
              "      <td>7</td>\n",
              "      <td>When is a couple doing the killing, She is alw...</td>\n",
              "      <td>1</td>\n",
              "      <td>Not very detailed!</td>\n",
              "      <td>1392076800</td>\n",
              "      <td>02 11, 2014</td>\n",
              "    </tr>\n",
              "    <tr>\n",
              "      <th>1595</th>\n",
              "      <td>AKJEYA96I1QE6</td>\n",
              "      <td>0764204319</td>\n",
              "      <td>nyccowgirl</td>\n",
              "      <td>1</td>\n",
              "      <td>2</td>\n",
              "      <td>There were a number of times when I wondered w...</td>\n",
              "      <td>1</td>\n",
              "      <td>Slow...</td>\n",
              "      <td>1390694400</td>\n",
              "      <td>01 26, 2014</td>\n",
              "    </tr>\n",
              "    <tr>\n",
              "      <th>2731</th>\n",
              "      <td>A3LUUNZVGSSA3M</td>\n",
              "      <td>0446517321</td>\n",
              "      <td>Timmy God lover \"Tim E B\"</td>\n",
              "      <td>0</td>\n",
              "      <td>1</td>\n",
              "      <td>This book depicts women as they really do not ...</td>\n",
              "      <td>1</td>\n",
              "      <td>Degrading</td>\n",
              "      <td>1400457600</td>\n",
              "      <td>05 19, 2014</td>\n",
              "    </tr>\n",
              "  </tbody>\n",
              "</table>\n",
              "</div>"
            ],
            "text/plain": [
              "          reviewerID        asin  ... unixReviewTime   reviewTime\n",
              "3419   AQY5XBYSENNZQ  1250006082  ...     1400544000  05 20, 2014\n",
              "8649  A2PWDBZQPR9JU6  0399161465  ...     1398297600  04 24, 2014\n",
              "2730   A9FIEIKKPTX89  B00HOHMIVQ  ...     1392076800  02 11, 2014\n",
              "1595   AKJEYA96I1QE6  0764204319  ...     1390694400  01 26, 2014\n",
              "2731  A3LUUNZVGSSA3M  0446517321  ...     1400457600  05 19, 2014\n",
              "\n",
              "[5 rows x 10 columns]"
            ]
          },
          "metadata": {
            "tags": []
          },
          "execution_count": 1570
        }
      ]
    },
    {
      "cell_type": "code",
      "metadata": {
        "id": "5x_Ulh3AML6S",
        "outputId": "024e3afb-80c8-4ffa-c924-ba6d5c010575",
        "colab": {
          "base_uri": "https://localhost:8080/",
          "height": 284
        }
      },
      "source": [
        "Books_small.describe()"
      ],
      "execution_count": 1571,
      "outputs": [
        {
          "output_type": "execute_result",
          "data": {
            "text/html": [
              "<div>\n",
              "<style scoped>\n",
              "    .dataframe tbody tr th:only-of-type {\n",
              "        vertical-align: middle;\n",
              "    }\n",
              "\n",
              "    .dataframe tbody tr th {\n",
              "        vertical-align: top;\n",
              "    }\n",
              "\n",
              "    .dataframe thead th {\n",
              "        text-align: right;\n",
              "    }\n",
              "</style>\n",
              "<table border=\"1\" class=\"dataframe\">\n",
              "  <thead>\n",
              "    <tr style=\"text-align: right;\">\n",
              "      <th></th>\n",
              "      <th>helpful/0</th>\n",
              "      <th>helpful/1</th>\n",
              "      <th>overall</th>\n",
              "      <th>unixReviewTime</th>\n",
              "    </tr>\n",
              "  </thead>\n",
              "  <tbody>\n",
              "    <tr>\n",
              "      <th>count</th>\n",
              "      <td>10000.000000</td>\n",
              "      <td>10000.000000</td>\n",
              "      <td>10000.000000</td>\n",
              "      <td>1.000000e+04</td>\n",
              "    </tr>\n",
              "    <tr>\n",
              "      <th>mean</th>\n",
              "      <td>0.583800</td>\n",
              "      <td>0.797400</td>\n",
              "      <td>4.339500</td>\n",
              "      <td>1.396855e+09</td>\n",
              "    </tr>\n",
              "    <tr>\n",
              "      <th>std</th>\n",
              "      <td>2.156396</td>\n",
              "      <td>3.163219</td>\n",
              "      <td>0.983736</td>\n",
              "      <td>4.931959e+06</td>\n",
              "    </tr>\n",
              "    <tr>\n",
              "      <th>min</th>\n",
              "      <td>0.000000</td>\n",
              "      <td>0.000000</td>\n",
              "      <td>1.000000</td>\n",
              "      <td>1.388534e+09</td>\n",
              "    </tr>\n",
              "    <tr>\n",
              "      <th>25%</th>\n",
              "      <td>0.000000</td>\n",
              "      <td>0.000000</td>\n",
              "      <td>4.000000</td>\n",
              "      <td>1.392509e+09</td>\n",
              "    </tr>\n",
              "    <tr>\n",
              "      <th>50%</th>\n",
              "      <td>0.000000</td>\n",
              "      <td>0.000000</td>\n",
              "      <td>5.000000</td>\n",
              "      <td>1.396915e+09</td>\n",
              "    </tr>\n",
              "    <tr>\n",
              "      <th>75%</th>\n",
              "      <td>1.000000</td>\n",
              "      <td>1.000000</td>\n",
              "      <td>5.000000</td>\n",
              "      <td>1.401062e+09</td>\n",
              "    </tr>\n",
              "    <tr>\n",
              "      <th>max</th>\n",
              "      <td>100.000000</td>\n",
              "      <td>154.000000</td>\n",
              "      <td>5.000000</td>\n",
              "      <td>1.406074e+09</td>\n",
              "    </tr>\n",
              "  </tbody>\n",
              "</table>\n",
              "</div>"
            ],
            "text/plain": [
              "          helpful/0     helpful/1       overall  unixReviewTime\n",
              "count  10000.000000  10000.000000  10000.000000    1.000000e+04\n",
              "mean       0.583800      0.797400      4.339500    1.396855e+09\n",
              "std        2.156396      3.163219      0.983736    4.931959e+06\n",
              "min        0.000000      0.000000      1.000000    1.388534e+09\n",
              "25%        0.000000      0.000000      4.000000    1.392509e+09\n",
              "50%        0.000000      0.000000      5.000000    1.396915e+09\n",
              "75%        1.000000      1.000000      5.000000    1.401062e+09\n",
              "max      100.000000    154.000000      5.000000    1.406074e+09"
            ]
          },
          "metadata": {
            "tags": []
          },
          "execution_count": 1571
        }
      ]
    },
    {
      "cell_type": "code",
      "metadata": {
        "id": "T2bmtO9iMfah",
        "outputId": "54b2bcdf-9208-4a5c-ac13-f0419c341d42",
        "colab": {
          "base_uri": "https://localhost:8080/",
          "height": 279
        }
      },
      "source": [
        "Books_small.head()"
      ],
      "execution_count": 1572,
      "outputs": [
        {
          "output_type": "execute_result",
          "data": {
            "text/html": [
              "<div>\n",
              "<style scoped>\n",
              "    .dataframe tbody tr th:only-of-type {\n",
              "        vertical-align: middle;\n",
              "    }\n",
              "\n",
              "    .dataframe tbody tr th {\n",
              "        vertical-align: top;\n",
              "    }\n",
              "\n",
              "    .dataframe thead th {\n",
              "        text-align: right;\n",
              "    }\n",
              "</style>\n",
              "<table border=\"1\" class=\"dataframe\">\n",
              "  <thead>\n",
              "    <tr style=\"text-align: right;\">\n",
              "      <th></th>\n",
              "      <th>reviewerID</th>\n",
              "      <th>asin</th>\n",
              "      <th>reviewerName</th>\n",
              "      <th>helpful/0</th>\n",
              "      <th>helpful/1</th>\n",
              "      <th>reviewText</th>\n",
              "      <th>overall</th>\n",
              "      <th>summary</th>\n",
              "      <th>unixReviewTime</th>\n",
              "      <th>reviewTime</th>\n",
              "    </tr>\n",
              "  </thead>\n",
              "  <tbody>\n",
              "    <tr>\n",
              "      <th>0</th>\n",
              "      <td>A1F2H80A1ZNN1N</td>\n",
              "      <td>B00GDM3NQC</td>\n",
              "      <td>Connie Correll</td>\n",
              "      <td>0</td>\n",
              "      <td>0</td>\n",
              "      <td>I bought both boxed sets, books 1-5.  Really a...</td>\n",
              "      <td>5</td>\n",
              "      <td>Can't stop reading!</td>\n",
              "      <td>1390435200</td>\n",
              "      <td>01 23, 2014</td>\n",
              "    </tr>\n",
              "    <tr>\n",
              "      <th>1</th>\n",
              "      <td>AI3DRTKCSK4KX</td>\n",
              "      <td>B00A5MREAM</td>\n",
              "      <td>Grandma</td>\n",
              "      <td>0</td>\n",
              "      <td>0</td>\n",
              "      <td>I enjoyed this short book. But it was way way ...</td>\n",
              "      <td>3</td>\n",
              "      <td>A leaf on the wind of all hallows</td>\n",
              "      <td>1399593600</td>\n",
              "      <td>05 9, 2014</td>\n",
              "    </tr>\n",
              "    <tr>\n",
              "      <th>2</th>\n",
              "      <td>A3KAKFHY9DAC8A</td>\n",
              "      <td>0446547573</td>\n",
              "      <td>toobusyreading \"Inspired Kathy\"</td>\n",
              "      <td>1</td>\n",
              "      <td>1</td>\n",
              "      <td>I love Nicholas Sparks. I&amp;#8217;ve read everyt...</td>\n",
              "      <td>4</td>\n",
              "      <td>Great writing from Nicholas Sparks.</td>\n",
              "      <td>1404518400</td>\n",
              "      <td>07 5, 2014</td>\n",
              "    </tr>\n",
              "    <tr>\n",
              "      <th>3</th>\n",
              "      <td>ATYBCYD6BIXVL</td>\n",
              "      <td>0955809215</td>\n",
              "      <td>Chrissie</td>\n",
              "      <td>0</td>\n",
              "      <td>0</td>\n",
              "      <td>I really enjoyed this adventure and look forwa...</td>\n",
              "      <td>4</td>\n",
              "      <td>great</td>\n",
              "      <td>1389225600</td>\n",
              "      <td>01 9, 2014</td>\n",
              "    </tr>\n",
              "    <tr>\n",
              "      <th>4</th>\n",
              "      <td>A17K95SEU3J68U</td>\n",
              "      <td>0991500776</td>\n",
              "      <td>Sirde \"artist761\"</td>\n",
              "      <td>0</td>\n",
              "      <td>0</td>\n",
              "      <td>It was a decent read.. typical story line. Not...</td>\n",
              "      <td>3</td>\n",
              "      <td>It was a decent read.. typical story line ...</td>\n",
              "      <td>1404864000</td>\n",
              "      <td>07 9, 2014</td>\n",
              "    </tr>\n",
              "  </tbody>\n",
              "</table>\n",
              "</div>"
            ],
            "text/plain": [
              "       reviewerID        asin  ... unixReviewTime   reviewTime\n",
              "0  A1F2H80A1ZNN1N  B00GDM3NQC  ...     1390435200  01 23, 2014\n",
              "1   AI3DRTKCSK4KX  B00A5MREAM  ...     1399593600   05 9, 2014\n",
              "2  A3KAKFHY9DAC8A  0446547573  ...     1404518400   07 5, 2014\n",
              "3   ATYBCYD6BIXVL  0955809215  ...     1389225600   01 9, 2014\n",
              "4  A17K95SEU3J68U  0991500776  ...     1404864000   07 9, 2014\n",
              "\n",
              "[5 rows x 10 columns]"
            ]
          },
          "metadata": {
            "tags": []
          },
          "execution_count": 1572
        }
      ]
    },
    {
      "cell_type": "code",
      "metadata": {
        "id": "UoBANhxdMxOy",
        "outputId": "cb2f87b2-7a24-4c94-ea49-6488d01291e9",
        "colab": {
          "base_uri": "https://localhost:8080/",
          "height": 279
        }
      },
      "source": [
        "Books_small.tail()"
      ],
      "execution_count": 1573,
      "outputs": [
        {
          "output_type": "execute_result",
          "data": {
            "text/html": [
              "<div>\n",
              "<style scoped>\n",
              "    .dataframe tbody tr th:only-of-type {\n",
              "        vertical-align: middle;\n",
              "    }\n",
              "\n",
              "    .dataframe tbody tr th {\n",
              "        vertical-align: top;\n",
              "    }\n",
              "\n",
              "    .dataframe thead th {\n",
              "        text-align: right;\n",
              "    }\n",
              "</style>\n",
              "<table border=\"1\" class=\"dataframe\">\n",
              "  <thead>\n",
              "    <tr style=\"text-align: right;\">\n",
              "      <th></th>\n",
              "      <th>reviewerID</th>\n",
              "      <th>asin</th>\n",
              "      <th>reviewerName</th>\n",
              "      <th>helpful/0</th>\n",
              "      <th>helpful/1</th>\n",
              "      <th>reviewText</th>\n",
              "      <th>overall</th>\n",
              "      <th>summary</th>\n",
              "      <th>unixReviewTime</th>\n",
              "      <th>reviewTime</th>\n",
              "    </tr>\n",
              "  </thead>\n",
              "  <tbody>\n",
              "    <tr>\n",
              "      <th>9995</th>\n",
              "      <td>A32FV8MF6KTRYE</td>\n",
              "      <td>0615676863</td>\n",
              "      <td>S.Wilson</td>\n",
              "      <td>0</td>\n",
              "      <td>0</td>\n",
              "      <td>The whole series was great!  Melody is a fanta...</td>\n",
              "      <td>5</td>\n",
              "      <td>Great</td>\n",
              "      <td>1389830400</td>\n",
              "      <td>01 16, 2014</td>\n",
              "    </tr>\n",
              "    <tr>\n",
              "      <th>9996</th>\n",
              "      <td>A2IYZ41783TX4R</td>\n",
              "      <td>B00GG2DWO2</td>\n",
              "      <td>Lynn Demsky \"Lynn/MI\"</td>\n",
              "      <td>0</td>\n",
              "      <td>0</td>\n",
              "      <td>I didn't thing that much of this book.  I am a...</td>\n",
              "      <td>3</td>\n",
              "      <td>an anchor might have helped....</td>\n",
              "      <td>1391731200</td>\n",
              "      <td>02 7, 2014</td>\n",
              "    </tr>\n",
              "    <tr>\n",
              "      <th>9997</th>\n",
              "      <td>A1GHQOXZME7VLL</td>\n",
              "      <td>1482012294</td>\n",
              "      <td>CABorgford</td>\n",
              "      <td>0</td>\n",
              "      <td>0</td>\n",
              "      <td>It is an emotional TRIP to the past with Trip ...</td>\n",
              "      <td>5</td>\n",
              "      <td>Must Read Series - Timing is Everything</td>\n",
              "      <td>1388880000</td>\n",
              "      <td>01 5, 2014</td>\n",
              "    </tr>\n",
              "    <tr>\n",
              "      <th>9998</th>\n",
              "      <td>A37ZXVSFNM1UAZ</td>\n",
              "      <td>1481978063</td>\n",
              "      <td>V. Jones \"Phoenix Rising\"</td>\n",
              "      <td>0</td>\n",
              "      <td>0</td>\n",
              "      <td>This definitely got under my veins whereby I h...</td>\n",
              "      <td>5</td>\n",
              "      <td>This story grew on me!</td>\n",
              "      <td>1392076800</td>\n",
              "      <td>02 11, 2014</td>\n",
              "    </tr>\n",
              "    <tr>\n",
              "      <th>9999</th>\n",
              "      <td>A1EZD7IJOOAF6S</td>\n",
              "      <td>0956998569</td>\n",
              "      <td>Amazon Customer</td>\n",
              "      <td>1</td>\n",
              "      <td>1</td>\n",
              "      <td>Highly recommend this entire trilogy. It is ve...</td>\n",
              "      <td>4</td>\n",
              "      <td>truly enjoyed</td>\n",
              "      <td>1402358400</td>\n",
              "      <td>06 10, 2014</td>\n",
              "    </tr>\n",
              "  </tbody>\n",
              "</table>\n",
              "</div>"
            ],
            "text/plain": [
              "          reviewerID        asin  ... unixReviewTime   reviewTime\n",
              "9995  A32FV8MF6KTRYE  0615676863  ...     1389830400  01 16, 2014\n",
              "9996  A2IYZ41783TX4R  B00GG2DWO2  ...     1391731200   02 7, 2014\n",
              "9997  A1GHQOXZME7VLL  1482012294  ...     1388880000   01 5, 2014\n",
              "9998  A37ZXVSFNM1UAZ  1481978063  ...     1392076800  02 11, 2014\n",
              "9999  A1EZD7IJOOAF6S  0956998569  ...     1402358400  06 10, 2014\n",
              "\n",
              "[5 rows x 10 columns]"
            ]
          },
          "metadata": {
            "tags": []
          },
          "execution_count": 1573
        }
      ]
    },
    {
      "cell_type": "code",
      "metadata": {
        "id": "Uk00CxW1M1B1",
        "outputId": "78e4dc43-eeb8-440d-87bf-b1cd9df4c9d7",
        "colab": {
          "base_uri": "https://localhost:8080/",
          "height": 67
        }
      },
      "source": [
        "Books_small.columns"
      ],
      "execution_count": 1574,
      "outputs": [
        {
          "output_type": "execute_result",
          "data": {
            "text/plain": [
              "Index(['reviewerID', 'asin', 'reviewerName', 'helpful/0', 'helpful/1',\n",
              "       'reviewText', 'overall', 'summary', 'unixReviewTime', 'reviewTime'],\n",
              "      dtype='object')"
            ]
          },
          "metadata": {
            "tags": []
          },
          "execution_count": 1574
        }
      ]
    },
    {
      "cell_type": "code",
      "metadata": {
        "id": "HADIF-SNNJh9",
        "outputId": "bdc9ac44-3742-45f0-ac41-e2538871c045",
        "colab": {
          "base_uri": "https://localhost:8080/",
          "height": 302
        }
      },
      "source": [
        "Books_small.info()"
      ],
      "execution_count": 1575,
      "outputs": [
        {
          "output_type": "stream",
          "text": [
            "<class 'pandas.core.frame.DataFrame'>\n",
            "RangeIndex: 10000 entries, 0 to 9999\n",
            "Data columns (total 10 columns):\n",
            " #   Column          Non-Null Count  Dtype \n",
            "---  ------          --------------  ----- \n",
            " 0   reviewerID      10000 non-null  object\n",
            " 1   asin            10000 non-null  object\n",
            " 2   reviewerName    9957 non-null   object\n",
            " 3   helpful/0       10000 non-null  int64 \n",
            " 4   helpful/1       10000 non-null  int64 \n",
            " 5   reviewText      10000 non-null  object\n",
            " 6   overall         10000 non-null  int64 \n",
            " 7   summary         10000 non-null  object\n",
            " 8   unixReviewTime  10000 non-null  int64 \n",
            " 9   reviewTime      10000 non-null  object\n",
            "dtypes: int64(4), object(6)\n",
            "memory usage: 781.4+ KB\n"
          ],
          "name": "stdout"
        }
      ]
    },
    {
      "cell_type": "code",
      "metadata": {
        "id": "FoBAPn9nNUOx",
        "outputId": "c9e71cb4-767a-41af-8e2f-5380925f956f",
        "colab": {
          "base_uri": "https://localhost:8080/",
          "height": 34
        }
      },
      "source": [
        "Books_small.index"
      ],
      "execution_count": 1576,
      "outputs": [
        {
          "output_type": "execute_result",
          "data": {
            "text/plain": [
              "RangeIndex(start=0, stop=10000, step=1)"
            ]
          },
          "metadata": {
            "tags": []
          },
          "execution_count": 1576
        }
      ]
    },
    {
      "cell_type": "code",
      "metadata": {
        "id": "dr9_NkGxNoaw",
        "outputId": "d37b847a-e5c9-4d98-a31f-4f03ebf8cc96",
        "colab": {
          "base_uri": "https://localhost:8080/",
          "height": 402
        }
      },
      "source": [
        "Books_small.isnull()"
      ],
      "execution_count": 1577,
      "outputs": [
        {
          "output_type": "execute_result",
          "data": {
            "text/html": [
              "<div>\n",
              "<style scoped>\n",
              "    .dataframe tbody tr th:only-of-type {\n",
              "        vertical-align: middle;\n",
              "    }\n",
              "\n",
              "    .dataframe tbody tr th {\n",
              "        vertical-align: top;\n",
              "    }\n",
              "\n",
              "    .dataframe thead th {\n",
              "        text-align: right;\n",
              "    }\n",
              "</style>\n",
              "<table border=\"1\" class=\"dataframe\">\n",
              "  <thead>\n",
              "    <tr style=\"text-align: right;\">\n",
              "      <th></th>\n",
              "      <th>reviewerID</th>\n",
              "      <th>asin</th>\n",
              "      <th>reviewerName</th>\n",
              "      <th>helpful/0</th>\n",
              "      <th>helpful/1</th>\n",
              "      <th>reviewText</th>\n",
              "      <th>overall</th>\n",
              "      <th>summary</th>\n",
              "      <th>unixReviewTime</th>\n",
              "      <th>reviewTime</th>\n",
              "    </tr>\n",
              "  </thead>\n",
              "  <tbody>\n",
              "    <tr>\n",
              "      <th>0</th>\n",
              "      <td>False</td>\n",
              "      <td>False</td>\n",
              "      <td>False</td>\n",
              "      <td>False</td>\n",
              "      <td>False</td>\n",
              "      <td>False</td>\n",
              "      <td>False</td>\n",
              "      <td>False</td>\n",
              "      <td>False</td>\n",
              "      <td>False</td>\n",
              "    </tr>\n",
              "    <tr>\n",
              "      <th>1</th>\n",
              "      <td>False</td>\n",
              "      <td>False</td>\n",
              "      <td>False</td>\n",
              "      <td>False</td>\n",
              "      <td>False</td>\n",
              "      <td>False</td>\n",
              "      <td>False</td>\n",
              "      <td>False</td>\n",
              "      <td>False</td>\n",
              "      <td>False</td>\n",
              "    </tr>\n",
              "    <tr>\n",
              "      <th>2</th>\n",
              "      <td>False</td>\n",
              "      <td>False</td>\n",
              "      <td>False</td>\n",
              "      <td>False</td>\n",
              "      <td>False</td>\n",
              "      <td>False</td>\n",
              "      <td>False</td>\n",
              "      <td>False</td>\n",
              "      <td>False</td>\n",
              "      <td>False</td>\n",
              "    </tr>\n",
              "    <tr>\n",
              "      <th>3</th>\n",
              "      <td>False</td>\n",
              "      <td>False</td>\n",
              "      <td>False</td>\n",
              "      <td>False</td>\n",
              "      <td>False</td>\n",
              "      <td>False</td>\n",
              "      <td>False</td>\n",
              "      <td>False</td>\n",
              "      <td>False</td>\n",
              "      <td>False</td>\n",
              "    </tr>\n",
              "    <tr>\n",
              "      <th>4</th>\n",
              "      <td>False</td>\n",
              "      <td>False</td>\n",
              "      <td>False</td>\n",
              "      <td>False</td>\n",
              "      <td>False</td>\n",
              "      <td>False</td>\n",
              "      <td>False</td>\n",
              "      <td>False</td>\n",
              "      <td>False</td>\n",
              "      <td>False</td>\n",
              "    </tr>\n",
              "    <tr>\n",
              "      <th>...</th>\n",
              "      <td>...</td>\n",
              "      <td>...</td>\n",
              "      <td>...</td>\n",
              "      <td>...</td>\n",
              "      <td>...</td>\n",
              "      <td>...</td>\n",
              "      <td>...</td>\n",
              "      <td>...</td>\n",
              "      <td>...</td>\n",
              "      <td>...</td>\n",
              "    </tr>\n",
              "    <tr>\n",
              "      <th>9995</th>\n",
              "      <td>False</td>\n",
              "      <td>False</td>\n",
              "      <td>False</td>\n",
              "      <td>False</td>\n",
              "      <td>False</td>\n",
              "      <td>False</td>\n",
              "      <td>False</td>\n",
              "      <td>False</td>\n",
              "      <td>False</td>\n",
              "      <td>False</td>\n",
              "    </tr>\n",
              "    <tr>\n",
              "      <th>9996</th>\n",
              "      <td>False</td>\n",
              "      <td>False</td>\n",
              "      <td>False</td>\n",
              "      <td>False</td>\n",
              "      <td>False</td>\n",
              "      <td>False</td>\n",
              "      <td>False</td>\n",
              "      <td>False</td>\n",
              "      <td>False</td>\n",
              "      <td>False</td>\n",
              "    </tr>\n",
              "    <tr>\n",
              "      <th>9997</th>\n",
              "      <td>False</td>\n",
              "      <td>False</td>\n",
              "      <td>False</td>\n",
              "      <td>False</td>\n",
              "      <td>False</td>\n",
              "      <td>False</td>\n",
              "      <td>False</td>\n",
              "      <td>False</td>\n",
              "      <td>False</td>\n",
              "      <td>False</td>\n",
              "    </tr>\n",
              "    <tr>\n",
              "      <th>9998</th>\n",
              "      <td>False</td>\n",
              "      <td>False</td>\n",
              "      <td>False</td>\n",
              "      <td>False</td>\n",
              "      <td>False</td>\n",
              "      <td>False</td>\n",
              "      <td>False</td>\n",
              "      <td>False</td>\n",
              "      <td>False</td>\n",
              "      <td>False</td>\n",
              "    </tr>\n",
              "    <tr>\n",
              "      <th>9999</th>\n",
              "      <td>False</td>\n",
              "      <td>False</td>\n",
              "      <td>False</td>\n",
              "      <td>False</td>\n",
              "      <td>False</td>\n",
              "      <td>False</td>\n",
              "      <td>False</td>\n",
              "      <td>False</td>\n",
              "      <td>False</td>\n",
              "      <td>False</td>\n",
              "    </tr>\n",
              "  </tbody>\n",
              "</table>\n",
              "<p>10000 rows × 10 columns</p>\n",
              "</div>"
            ],
            "text/plain": [
              "      reviewerID   asin  reviewerName  ...  summary  unixReviewTime  reviewTime\n",
              "0          False  False         False  ...    False           False       False\n",
              "1          False  False         False  ...    False           False       False\n",
              "2          False  False         False  ...    False           False       False\n",
              "3          False  False         False  ...    False           False       False\n",
              "4          False  False         False  ...    False           False       False\n",
              "...          ...    ...           ...  ...      ...             ...         ...\n",
              "9995       False  False         False  ...    False           False       False\n",
              "9996       False  False         False  ...    False           False       False\n",
              "9997       False  False         False  ...    False           False       False\n",
              "9998       False  False         False  ...    False           False       False\n",
              "9999       False  False         False  ...    False           False       False\n",
              "\n",
              "[10000 rows x 10 columns]"
            ]
          },
          "metadata": {
            "tags": []
          },
          "execution_count": 1577
        }
      ]
    },
    {
      "cell_type": "code",
      "metadata": {
        "id": "CQErztgE7lHl",
        "outputId": "34ed3bd4-59af-4642-f3e2-7e6d6a03b9f1",
        "colab": {
          "base_uri": "https://localhost:8080/",
          "height": 34
        }
      },
      "source": [
        "Sentiments=[]\n",
        "for num in Books_small['overall']:\n",
        "  if num>4.0:\n",
        "    Sentiments.append(\"Positive\")\n",
        "  else:\n",
        "    Sentiments.append(\"Negative\")\n",
        "print(len(Sentiments))"
      ],
      "execution_count": 1578,
      "outputs": [
        {
          "output_type": "stream",
          "text": [
            "10000\n"
          ],
          "name": "stdout"
        }
      ]
    },
    {
      "cell_type": "code",
      "metadata": {
        "id": "BlENmwbKC4Zp",
        "outputId": "540ce3b2-e83e-4cdd-8b50-88703c5bb91d",
        "colab": {
          "base_uri": "https://localhost:8080/",
          "height": 195
        }
      },
      "source": [
        "data={'Ratings':Books_small['overall'],'Sentiments':Sentiments,'Customer Reviews':Books_small['reviewText']}\n",
        "Target_Data=pd.DataFrame(data)\n",
        "Target_Data.sample(5)"
      ],
      "execution_count": 1579,
      "outputs": [
        {
          "output_type": "execute_result",
          "data": {
            "text/html": [
              "<div>\n",
              "<style scoped>\n",
              "    .dataframe tbody tr th:only-of-type {\n",
              "        vertical-align: middle;\n",
              "    }\n",
              "\n",
              "    .dataframe tbody tr th {\n",
              "        vertical-align: top;\n",
              "    }\n",
              "\n",
              "    .dataframe thead th {\n",
              "        text-align: right;\n",
              "    }\n",
              "</style>\n",
              "<table border=\"1\" class=\"dataframe\">\n",
              "  <thead>\n",
              "    <tr style=\"text-align: right;\">\n",
              "      <th></th>\n",
              "      <th>Ratings</th>\n",
              "      <th>Sentiments</th>\n",
              "      <th>Customer Reviews</th>\n",
              "    </tr>\n",
              "  </thead>\n",
              "  <tbody>\n",
              "    <tr>\n",
              "      <th>4809</th>\n",
              "      <td>5</td>\n",
              "      <td>Positive</td>\n",
              "      <td>OMG what an awesome job by the author.  Could ...</td>\n",
              "    </tr>\n",
              "    <tr>\n",
              "      <th>8744</th>\n",
              "      <td>5</td>\n",
              "      <td>Positive</td>\n",
              "      <td>Tightly constructed narrative moving readers f...</td>\n",
              "    </tr>\n",
              "    <tr>\n",
              "      <th>8977</th>\n",
              "      <td>5</td>\n",
              "      <td>Positive</td>\n",
              "      <td>I liked how this series turned out and I just ...</td>\n",
              "    </tr>\n",
              "    <tr>\n",
              "      <th>8928</th>\n",
              "      <td>5</td>\n",
              "      <td>Positive</td>\n",
              "      <td>I think Beauty and the Beast is a favourite of...</td>\n",
              "    </tr>\n",
              "    <tr>\n",
              "      <th>6974</th>\n",
              "      <td>5</td>\n",
              "      <td>Positive</td>\n",
              "      <td>This book is a great resource for anyone who i...</td>\n",
              "    </tr>\n",
              "  </tbody>\n",
              "</table>\n",
              "</div>"
            ],
            "text/plain": [
              "      Ratings Sentiments                                   Customer Reviews\n",
              "4809        5   Positive  OMG what an awesome job by the author.  Could ...\n",
              "8744        5   Positive  Tightly constructed narrative moving readers f...\n",
              "8977        5   Positive  I liked how this series turned out and I just ...\n",
              "8928        5   Positive  I think Beauty and the Beast is a favourite of...\n",
              "6974        5   Positive  This book is a great resource for anyone who i..."
            ]
          },
          "metadata": {
            "tags": []
          },
          "execution_count": 1579
        }
      ]
    },
    {
      "cell_type": "code",
      "metadata": {
        "id": "nITm2E4O2B9F"
      },
      "source": [
        "training,test=train_test_split(Target_Data,test_size=0.33,random_state=42,stratify=Target_Data['Sentiments'])"
      ],
      "execution_count": 1580,
      "outputs": []
    },
    {
      "cell_type": "code",
      "metadata": {
        "id": "n9AIVNWqGD0f",
        "outputId": "2b30d2b5-8577-4b94-fe91-f0635b9d83cc",
        "colab": {
          "base_uri": "https://localhost:8080/",
          "height": 34
        }
      },
      "source": [
        "training.shape"
      ],
      "execution_count": 1581,
      "outputs": [
        {
          "output_type": "execute_result",
          "data": {
            "text/plain": [
              "(6700, 3)"
            ]
          },
          "metadata": {
            "tags": []
          },
          "execution_count": 1581
        }
      ]
    },
    {
      "cell_type": "code",
      "metadata": {
        "id": "kH08nIEv4GN2",
        "outputId": "df386c12-860d-4a5c-e254-d40feac92020",
        "colab": {
          "base_uri": "https://localhost:8080/",
          "height": 34
        }
      },
      "source": [
        "test.shape"
      ],
      "execution_count": 1582,
      "outputs": [
        {
          "output_type": "execute_result",
          "data": {
            "text/plain": [
              "(3300, 3)"
            ]
          },
          "metadata": {
            "tags": []
          },
          "execution_count": 1582
        }
      ]
    },
    {
      "cell_type": "code",
      "metadata": {
        "id": "GgUBcS8v5ylV",
        "outputId": "1683b302-8d0a-424b-ae6c-c53a600f6d52",
        "colab": {
          "base_uri": "https://localhost:8080/",
          "height": 402
        }
      },
      "source": [
        "training"
      ],
      "execution_count": 1583,
      "outputs": [
        {
          "output_type": "execute_result",
          "data": {
            "text/html": [
              "<div>\n",
              "<style scoped>\n",
              "    .dataframe tbody tr th:only-of-type {\n",
              "        vertical-align: middle;\n",
              "    }\n",
              "\n",
              "    .dataframe tbody tr th {\n",
              "        vertical-align: top;\n",
              "    }\n",
              "\n",
              "    .dataframe thead th {\n",
              "        text-align: right;\n",
              "    }\n",
              "</style>\n",
              "<table border=\"1\" class=\"dataframe\">\n",
              "  <thead>\n",
              "    <tr style=\"text-align: right;\">\n",
              "      <th></th>\n",
              "      <th>Ratings</th>\n",
              "      <th>Sentiments</th>\n",
              "      <th>Customer Reviews</th>\n",
              "    </tr>\n",
              "  </thead>\n",
              "  <tbody>\n",
              "    <tr>\n",
              "      <th>7205</th>\n",
              "      <td>1</td>\n",
              "      <td>Negative</td>\n",
              "      <td>I'm absolutely sick and tired of the man cheat...</td>\n",
              "    </tr>\n",
              "    <tr>\n",
              "      <th>6318</th>\n",
              "      <td>4</td>\n",
              "      <td>Negative</td>\n",
              "      <td>While Alice tries to &amp;#8220;find herself&amp;#8221...</td>\n",
              "    </tr>\n",
              "    <tr>\n",
              "      <th>6288</th>\n",
              "      <td>5</td>\n",
              "      <td>Positive</td>\n",
              "      <td>I found the stories contained in this set to b...</td>\n",
              "    </tr>\n",
              "    <tr>\n",
              "      <th>1042</th>\n",
              "      <td>5</td>\n",
              "      <td>Positive</td>\n",
              "      <td>Love the power these women portray and the hun...</td>\n",
              "    </tr>\n",
              "    <tr>\n",
              "      <th>4694</th>\n",
              "      <td>4</td>\n",
              "      <td>Negative</td>\n",
              "      <td>I like this book. It gives us a very healthy a...</td>\n",
              "    </tr>\n",
              "    <tr>\n",
              "      <th>...</th>\n",
              "      <td>...</td>\n",
              "      <td>...</td>\n",
              "      <td>...</td>\n",
              "    </tr>\n",
              "    <tr>\n",
              "      <th>7465</th>\n",
              "      <td>5</td>\n",
              "      <td>Positive</td>\n",
              "      <td>I started my online journey in 2009 and basica...</td>\n",
              "    </tr>\n",
              "    <tr>\n",
              "      <th>9250</th>\n",
              "      <td>4</td>\n",
              "      <td>Negative</td>\n",
              "      <td>My mom read this book as a child.  It was her ...</td>\n",
              "    </tr>\n",
              "    <tr>\n",
              "      <th>2599</th>\n",
              "      <td>4</td>\n",
              "      <td>Negative</td>\n",
              "      <td>again Dan Gookin assistance is great for someo...</td>\n",
              "    </tr>\n",
              "    <tr>\n",
              "      <th>9597</th>\n",
              "      <td>5</td>\n",
              "      <td>Positive</td>\n",
              "      <td>This is a great read. The return to  Broslin C...</td>\n",
              "    </tr>\n",
              "    <tr>\n",
              "      <th>9163</th>\n",
              "      <td>5</td>\n",
              "      <td>Positive</td>\n",
              "      <td>While this is deemed to be the last of the tri...</td>\n",
              "    </tr>\n",
              "  </tbody>\n",
              "</table>\n",
              "<p>6700 rows × 3 columns</p>\n",
              "</div>"
            ],
            "text/plain": [
              "      Ratings Sentiments                                   Customer Reviews\n",
              "7205        1   Negative  I'm absolutely sick and tired of the man cheat...\n",
              "6318        4   Negative  While Alice tries to &#8220;find herself&#8221...\n",
              "6288        5   Positive  I found the stories contained in this set to b...\n",
              "1042        5   Positive  Love the power these women portray and the hun...\n",
              "4694        4   Negative  I like this book. It gives us a very healthy a...\n",
              "...       ...        ...                                                ...\n",
              "7465        5   Positive  I started my online journey in 2009 and basica...\n",
              "9250        4   Negative  My mom read this book as a child.  It was her ...\n",
              "2599        4   Negative  again Dan Gookin assistance is great for someo...\n",
              "9597        5   Positive  This is a great read. The return to  Broslin C...\n",
              "9163        5   Positive  While this is deemed to be the last of the tri...\n",
              "\n",
              "[6700 rows x 3 columns]"
            ]
          },
          "metadata": {
            "tags": []
          },
          "execution_count": 1583
        }
      ]
    },
    {
      "cell_type": "code",
      "metadata": {
        "id": "T3pK4MRR4zD0",
        "outputId": "4501b3e0-dbc4-455f-e8ea-7f78e2e3a2a7",
        "colab": {
          "base_uri": "https://localhost:8080/",
          "height": 35
        }
      },
      "source": [
        "training['Customer Reviews'].iloc[3] #<---The Index Has Been Re-indexed When It Comes To iloc"
      ],
      "execution_count": 1584,
      "outputs": [
        {
          "output_type": "execute_result",
          "data": {
            "application/vnd.google.colaboratory.intrinsic+json": {
              "type": "string"
            },
            "text/plain": [
              "'Love the power these women portray and the hunks that love them,'"
            ]
          },
          "metadata": {
            "tags": []
          },
          "execution_count": 1584
        }
      ]
    },
    {
      "cell_type": "code",
      "metadata": {
        "id": "-61ND0X4Rkhc",
        "outputId": "10742254-b57d-427d-d472-de4a5bab7ee3",
        "colab": {
          "base_uri": "https://localhost:8080/",
          "height": 35
        }
      },
      "source": [
        "training['Sentiments'].iloc[3]"
      ],
      "execution_count": 1585,
      "outputs": [
        {
          "output_type": "execute_result",
          "data": {
            "application/vnd.google.colaboratory.intrinsic+json": {
              "type": "string"
            },
            "text/plain": [
              "'Positive'"
            ]
          },
          "metadata": {
            "tags": []
          },
          "execution_count": 1585
        }
      ]
    },
    {
      "cell_type": "code",
      "metadata": {
        "id": "cLqrkHoPSASp",
        "outputId": "e5ae692a-20ad-4b68-d594-067c2e5a66bd",
        "colab": {
          "base_uri": "https://localhost:8080/",
          "height": 67
        }
      },
      "source": [
        "training['Sentiments'].value_counts() # <---Data Is Biased"
      ],
      "execution_count": 1586,
      "outputs": [
        {
          "output_type": "execute_result",
          "data": {
            "text/plain": [
              "Positive    3973\n",
              "Negative    2727\n",
              "Name: Sentiments, dtype: int64"
            ]
          },
          "metadata": {
            "tags": []
          },
          "execution_count": 1586
        }
      ]
    },
    {
      "cell_type": "markdown",
      "metadata": {
        "id": "5ISKzgldRXMe"
      },
      "source": [
        "**BAG OF WORDS**"
      ]
    },
    {
      "cell_type": "code",
      "metadata": {
        "id": "SN_Zz50FTq3Q"
      },
      "source": [
        "train_x=training['Customer Reviews']\n",
        "train_y=training['Sentiments']\n",
        "test_x=test['Customer Reviews']\n",
        "test_y=test['Sentiments']"
      ],
      "execution_count": 1587,
      "outputs": []
    },
    {
      "cell_type": "code",
      "metadata": {
        "id": "AaPEaaGqintL",
        "outputId": "b0fa4a7f-226a-455e-988d-dc23b225dc93",
        "colab": {
          "base_uri": "https://localhost:8080/",
          "height": 35
        }
      },
      "source": [
        "test_x.iloc[1]"
      ],
      "execution_count": 1588,
      "outputs": [
        {
          "output_type": "execute_result",
          "data": {
            "application/vnd.google.colaboratory.intrinsic+json": {
              "type": "string"
            },
            "text/plain": [
              "\"I really enjoyed this book. I couldn't put this book down until I finished it. The characters were good and the story line volume good.\""
            ]
          },
          "metadata": {
            "tags": []
          },
          "execution_count": 1588
        }
      ]
    },
    {
      "cell_type": "code",
      "metadata": {
        "id": "iqyzK5ziXHpG"
      },
      "source": [
        "vectorizer = TfidfVectorizer()\n",
        "train_xv = vectorizer.fit_transform(list(train_x))\n",
        "test_xv=vectorizer.transform(list(test_x))"
      ],
      "execution_count": 1589,
      "outputs": []
    },
    {
      "cell_type": "code",
      "metadata": {
        "id": "FqatpzwpYkoP",
        "outputId": "29572fe2-253a-4aeb-9e10-b302ad014dd0",
        "colab": {
          "base_uri": "https://localhost:8080/",
          "height": 34
        }
      },
      "source": [
        "train_xv.shape"
      ],
      "execution_count": 1590,
      "outputs": [
        {
          "output_type": "execute_result",
          "data": {
            "text/plain": [
              "(6700, 26663)"
            ]
          },
          "metadata": {
            "tags": []
          },
          "execution_count": 1590
        }
      ]
    },
    {
      "cell_type": "code",
      "metadata": {
        "id": "8Vpm1PQAnQQ5",
        "outputId": "372acd82-160c-468b-8a60-69ac7fa036f7",
        "colab": {
          "base_uri": "https://localhost:8080/",
          "height": 34
        }
      },
      "source": [
        "test_xv.shape"
      ],
      "execution_count": 1591,
      "outputs": [
        {
          "output_type": "execute_result",
          "data": {
            "text/plain": [
              "(3300, 26663)"
            ]
          },
          "metadata": {
            "tags": []
          },
          "execution_count": 1591
        }
      ]
    },
    {
      "cell_type": "code",
      "metadata": {
        "id": "ny_7gRrFXLhR",
        "outputId": "6fc8712d-c4c0-487c-f5c4-3e820f3eeb45",
        "colab": {
          "base_uri": "https://localhost:8080/",
          "height": 67
        }
      },
      "source": [
        "train_y.value_counts()"
      ],
      "execution_count": 1592,
      "outputs": [
        {
          "output_type": "execute_result",
          "data": {
            "text/plain": [
              "Positive    3973\n",
              "Negative    2727\n",
              "Name: Sentiments, dtype: int64"
            ]
          },
          "metadata": {
            "tags": []
          },
          "execution_count": 1592
        }
      ]
    },
    {
      "cell_type": "markdown",
      "metadata": {
        "id": "kllaMoJNqoGm"
      },
      "source": [
        "**TESTING ON MULTIPLE CLASSIFICATION ALGORITHMS**"
      ]
    },
    {
      "cell_type": "markdown",
      "metadata": {
        "id": "rZnL1Rv8xIhw"
      },
      "source": [
        "**LINEAR SVM**"
      ]
    },
    {
      "cell_type": "code",
      "metadata": {
        "id": "V0OAVCWJpICR",
        "outputId": "caa6db03-878c-4485-e378-6261eafdee6e",
        "colab": {
          "base_uri": "https://localhost:8080/",
          "height": 34
        }
      },
      "source": [
        "clf_svm=svm.SVC(kernel='linear')\n",
        "clf_svm.fit(train_xv,train_y)\n",
        "clf_svm.predict(test_xv[1])"
      ],
      "execution_count": 1593,
      "outputs": [
        {
          "output_type": "execute_result",
          "data": {
            "text/plain": [
              "array(['Positive'], dtype=object)"
            ]
          },
          "metadata": {
            "tags": []
          },
          "execution_count": 1593
        }
      ]
    },
    {
      "cell_type": "markdown",
      "metadata": {
        "id": "wLThXp-ZxNMJ"
      },
      "source": [
        "**DECISION TREE**"
      ]
    },
    {
      "cell_type": "code",
      "metadata": {
        "id": "ladlCNgvql38",
        "outputId": "e6eeb3e1-9c8c-4ea3-98dd-793c84c63215",
        "colab": {
          "base_uri": "https://localhost:8080/",
          "height": 34
        }
      },
      "source": [
        "clf_DecTree=DecisionTreeClassifier()\n",
        "clf_DecTree.fit(train_xv,train_y)\n",
        "clf_DecTree.predict(test_xv[1])"
      ],
      "execution_count": 1594,
      "outputs": [
        {
          "output_type": "execute_result",
          "data": {
            "text/plain": [
              "array(['Positive'], dtype=object)"
            ]
          },
          "metadata": {
            "tags": []
          },
          "execution_count": 1594
        }
      ]
    },
    {
      "cell_type": "markdown",
      "metadata": {
        "id": "EugiD7eD0Fqs"
      },
      "source": [
        "**LOGISTIC REGRESSION**"
      ]
    },
    {
      "cell_type": "code",
      "metadata": {
        "id": "LM5VcwAJ0K7z",
        "outputId": "563111e9-68b9-49ac-add3-36c3e2fca189",
        "colab": {
          "base_uri": "https://localhost:8080/",
          "height": 34
        }
      },
      "source": [
        "clf_log=LogisticRegression(max_iter=1000)\n",
        "clf_log.fit(train_xv,train_y)\n",
        "clf_log.predict(test_xv[1])"
      ],
      "execution_count": 1595,
      "outputs": [
        {
          "output_type": "execute_result",
          "data": {
            "text/plain": [
              "array(['Positive'], dtype=object)"
            ]
          },
          "metadata": {
            "tags": []
          },
          "execution_count": 1595
        }
      ]
    },
    {
      "cell_type": "markdown",
      "metadata": {
        "id": "wetPLP32xmuw"
      },
      "source": [
        "**NAIVE BAYES**"
      ]
    },
    {
      "cell_type": "code",
      "metadata": {
        "id": "JB41pJ5GsJpz",
        "outputId": "941d9fbb-f762-41f6-abd2-540f42ccce42",
        "colab": {
          "base_uri": "https://localhost:8080/",
          "height": 34
        }
      },
      "source": [
        "clf_gnb=GaussianNB()\n",
        "clf_gnb.fit(train_xv.toarray(),train_y)\n",
        "clf_gnb.predict(test_xv[1].toarray())"
      ],
      "execution_count": 1596,
      "outputs": [
        {
          "output_type": "execute_result",
          "data": {
            "text/plain": [
              "array(['Negative'], dtype='<U8')"
            ]
          },
          "metadata": {
            "tags": []
          },
          "execution_count": 1596
        }
      ]
    },
    {
      "cell_type": "markdown",
      "metadata": {
        "id": "mOkGCXnwQAfv"
      },
      "source": [
        "**PERFORMANCE**"
      ]
    },
    {
      "cell_type": "markdown",
      "metadata": {
        "id": "FSLC1R-6RpmA"
      },
      "source": [
        "MEAN ACCURACY"
      ]
    },
    {
      "cell_type": "code",
      "metadata": {
        "id": "8YkzJgA3x9dX",
        "outputId": "6e39f222-18d7-40ba-cd25-6d19bce6129c",
        "colab": {
          "base_uri": "https://localhost:8080/",
          "height": 34
        }
      },
      "source": [
        "clf_svm.score(test_xv,test_y)"
      ],
      "execution_count": 1597,
      "outputs": [
        {
          "output_type": "execute_result",
          "data": {
            "text/plain": [
              "0.7306060606060606"
            ]
          },
          "metadata": {
            "tags": []
          },
          "execution_count": 1597
        }
      ]
    },
    {
      "cell_type": "code",
      "metadata": {
        "id": "T8ORIrpRyACb",
        "outputId": "a8bd2aa6-4278-4118-f77b-68d1fe784d30",
        "colab": {
          "base_uri": "https://localhost:8080/",
          "height": 34
        }
      },
      "source": [
        "clf_DecTree.score(test_xv,test_y)"
      ],
      "execution_count": 1598,
      "outputs": [
        {
          "output_type": "execute_result",
          "data": {
            "text/plain": [
              "0.6115151515151516"
            ]
          },
          "metadata": {
            "tags": []
          },
          "execution_count": 1598
        }
      ]
    },
    {
      "cell_type": "code",
      "metadata": {
        "id": "rY_l2k34yT8e",
        "outputId": "d882249f-8c01-4e59-bc86-eb643546cb14",
        "colab": {
          "base_uri": "https://localhost:8080/",
          "height": 34
        }
      },
      "source": [
        "clf_gnb.score(test_xv.toarray(),test_y)"
      ],
      "execution_count": 1599,
      "outputs": [
        {
          "output_type": "execute_result",
          "data": {
            "text/plain": [
              "0.5187878787878788"
            ]
          },
          "metadata": {
            "tags": []
          },
          "execution_count": 1599
        }
      ]
    },
    {
      "cell_type": "code",
      "metadata": {
        "id": "_kxR_l_sO2-g",
        "outputId": "a26d289d-61b5-4706-a9d4-4d48aa10c675",
        "colab": {
          "base_uri": "https://localhost:8080/",
          "height": 34
        }
      },
      "source": [
        "clf_log.score(test_xv,test_y)"
      ],
      "execution_count": 1600,
      "outputs": [
        {
          "output_type": "execute_result",
          "data": {
            "text/plain": [
              "0.733030303030303"
            ]
          },
          "metadata": {
            "tags": []
          },
          "execution_count": 1600
        }
      ]
    },
    {
      "cell_type": "markdown",
      "metadata": {
        "id": "gYyZzmfsRzRe"
      },
      "source": [
        "F-1 SCORE"
      ]
    },
    {
      "cell_type": "code",
      "metadata": {
        "id": "tHbUtzKVQGDg",
        "outputId": "93987df5-21d0-4c17-890c-4b47b9563640",
        "colab": {
          "base_uri": "https://localhost:8080/",
          "height": 34
        }
      },
      "source": [
        "f1_score(test_y,clf_svm.predict(test_xv),average=None)"
      ],
      "execution_count": 1601,
      "outputs": [
        {
          "output_type": "execute_result",
          "data": {
            "text/plain": [
              "array([0.64482621, 0.78301196])"
            ]
          },
          "metadata": {
            "tags": []
          },
          "execution_count": 1601
        }
      ]
    },
    {
      "cell_type": "code",
      "metadata": {
        "id": "DRXaO9bKV8bU",
        "outputId": "7dfdeeda-5f0d-4219-faa1-e0d7ddf72f2d",
        "colab": {
          "base_uri": "https://localhost:8080/",
          "height": 34
        }
      },
      "source": [
        "f1_score(test_y,clf_DecTree.predict(test_xv),average=None)"
      ],
      "execution_count": 1602,
      "outputs": [
        {
          "output_type": "execute_result",
          "data": {
            "text/plain": [
              "array([0.51476154, 0.67609904])"
            ]
          },
          "metadata": {
            "tags": []
          },
          "execution_count": 1602
        }
      ]
    },
    {
      "cell_type": "code",
      "metadata": {
        "id": "RBancanEWGcY",
        "outputId": "ca7f550d-78a6-454f-eaa3-42afcd74af7c",
        "colab": {
          "base_uri": "https://localhost:8080/",
          "height": 34
        }
      },
      "source": [
        "f1_score(test_y,clf_log.predict(test_xv),average=None)"
      ],
      "execution_count": 1603,
      "outputs": [
        {
          "output_type": "execute_result",
          "data": {
            "text/plain": [
              "array([0.63519669, 0.78948626])"
            ]
          },
          "metadata": {
            "tags": []
          },
          "execution_count": 1603
        }
      ]
    },
    {
      "cell_type": "code",
      "metadata": {
        "id": "dq8d3eYhWMSl",
        "outputId": "d7201c91-97b1-406d-bbb8-f2a2af764704",
        "colab": {
          "base_uri": "https://localhost:8080/",
          "height": 34
        }
      },
      "source": [
        "f1_score(test_y,clf_gnb.predict(test_xv.toarray()),average=None)"
      ],
      "execution_count": 1604,
      "outputs": [
        {
          "output_type": "execute_result",
          "data": {
            "text/plain": [
              "array([0.51761847, 0.51995163])"
            ]
          },
          "metadata": {
            "tags": []
          },
          "execution_count": 1604
        }
      ]
    },
    {
      "cell_type": "code",
      "metadata": {
        "id": "mkoloFt4t7t8",
        "outputId": "749ce9af-4f07-4228-957a-5d79976c10f3",
        "colab": {
          "base_uri": "https://localhost:8080/",
          "height": 34
        }
      },
      "source": [
        "example=['do not buy this bad book', ' love this Book','impressive book']\n",
        "example=vectorizer.transform(example)\n",
        "clf_svm.predict(example)"
      ],
      "execution_count": 1605,
      "outputs": [
        {
          "output_type": "execute_result",
          "data": {
            "text/plain": [
              "array(['Negative', 'Positive', 'Positive'], dtype=object)"
            ]
          },
          "metadata": {
            "tags": []
          },
          "execution_count": 1605
        }
      ]
    },
    {
      "cell_type": "markdown",
      "metadata": {
        "id": "Lqa2TUri0uax"
      },
      "source": [
        "**GRID SEARCH**"
      ]
    },
    {
      "cell_type": "code",
      "metadata": {
        "id": "keIwR0hiJj1D"
      },
      "source": [
        "vector_machine=svm.SVC()\n",
        "parameters={'kernel':('rbf','linear'),'C':(1,2,3,6,7)}\n",
        "clf=GridSearchCV(vector_machine,parameters,cv=5)\n",
        "clf.fit(train_xv,train_y)"
      ],
      "execution_count": null,
      "outputs": []
    }
  ]
}