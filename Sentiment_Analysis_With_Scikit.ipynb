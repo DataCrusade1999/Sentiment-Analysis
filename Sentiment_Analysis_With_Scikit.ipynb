{
  "nbformat": 4,
  "nbformat_minor": 0,
  "metadata": {
    "colab": {
      "name": "Sentiment Analysis With Scikit.ipynb",
      "provenance": [],
      "collapsed_sections": [],
      "authorship_tag": "ABX9TyMS3EiTaFwn4GDkrXW4vXeP",
      "include_colab_link": true
    },
    "kernelspec": {
      "name": "python3",
      "display_name": "Python 3"
    }
  },
  "cells": [
    {
      "cell_type": "markdown",
      "metadata": {
        "id": "view-in-github",
        "colab_type": "text"
      },
      "source": [
        "<a href=\"https://colab.research.google.com/github/DataCrusade1999/expert-winner/blob/main/Sentiment_Analysis_With_Scikit.ipynb\" target=\"_parent\"><img src=\"https://colab.research.google.com/assets/colab-badge.svg\" alt=\"Open In Colab\"/></a>"
      ]
    },
    {
      "cell_type": "code",
      "metadata": {
        "id": "nyhesJDs9-3Z"
      },
      "source": [
        "import io\n",
        "import numpy as np\n",
        "import pandas as pd\n",
        "import datetime\n",
        "from sklearn.model_selection import train_test_split\n",
        "from sklearn.model_selection import GridSearchCV\n",
        "from sklearn.feature_extraction.text import CountVectorizer,TfidfVectorizer\n",
        "from sklearn.naive_bayes import GaussianNB\n",
        "from sklearn import svm\n",
        "from sklearn.tree import DecisionTreeClassifier\n",
        "from sklearn.linear_model import LogisticRegression\n",
        "from sklearn.metrics import f1_score"
      ],
      "execution_count": 1,
      "outputs": []
    },
    {
      "cell_type": "markdown",
      "metadata": {
        "id": "Ht0mR3efLu1R"
      },
      "source": [
        "**LOADING DATA**"
      ]
    },
    {
      "cell_type": "code",
      "metadata": {
        "id": "XjVKp72oHXi8"
      },
      "source": [
        "url='https://raw.githubusercontent.com/DataCrusade1999/Python/master/Data/Books_small_10000.csv'"
      ],
      "execution_count": 2,
      "outputs": []
    },
    {
      "cell_type": "code",
      "metadata": {
        "id": "UXrP4kMmIFJV",
        "outputId": "60cc77b2-9dd2-428c-d180-29fb9f43b3f0",
        "colab": {
          "base_uri": "https://localhost:8080/",
          "height": 279
        }
      },
      "source": [
        "Books_small=pd.read_csv(url)\n",
        "Books_small.head()"
      ],
      "execution_count": 3,
      "outputs": [
        {
          "output_type": "execute_result",
          "data": {
            "text/html": [
              "<div>\n",
              "<style scoped>\n",
              "    .dataframe tbody tr th:only-of-type {\n",
              "        vertical-align: middle;\n",
              "    }\n",
              "\n",
              "    .dataframe tbody tr th {\n",
              "        vertical-align: top;\n",
              "    }\n",
              "\n",
              "    .dataframe thead th {\n",
              "        text-align: right;\n",
              "    }\n",
              "</style>\n",
              "<table border=\"1\" class=\"dataframe\">\n",
              "  <thead>\n",
              "    <tr style=\"text-align: right;\">\n",
              "      <th></th>\n",
              "      <th>reviewerID</th>\n",
              "      <th>asin</th>\n",
              "      <th>reviewerName</th>\n",
              "      <th>helpful/0</th>\n",
              "      <th>helpful/1</th>\n",
              "      <th>reviewText</th>\n",
              "      <th>overall</th>\n",
              "      <th>summary</th>\n",
              "      <th>unixReviewTime</th>\n",
              "      <th>reviewTime</th>\n",
              "    </tr>\n",
              "  </thead>\n",
              "  <tbody>\n",
              "    <tr>\n",
              "      <th>0</th>\n",
              "      <td>A1F2H80A1ZNN1N</td>\n",
              "      <td>B00GDM3NQC</td>\n",
              "      <td>Connie Correll</td>\n",
              "      <td>0</td>\n",
              "      <td>0</td>\n",
              "      <td>I bought both boxed sets, books 1-5.  Really a...</td>\n",
              "      <td>5</td>\n",
              "      <td>Can't stop reading!</td>\n",
              "      <td>1390435200</td>\n",
              "      <td>01 23, 2014</td>\n",
              "    </tr>\n",
              "    <tr>\n",
              "      <th>1</th>\n",
              "      <td>AI3DRTKCSK4KX</td>\n",
              "      <td>B00A5MREAM</td>\n",
              "      <td>Grandma</td>\n",
              "      <td>0</td>\n",
              "      <td>0</td>\n",
              "      <td>I enjoyed this short book. But it was way way ...</td>\n",
              "      <td>3</td>\n",
              "      <td>A leaf on the wind of all hallows</td>\n",
              "      <td>1399593600</td>\n",
              "      <td>05 9, 2014</td>\n",
              "    </tr>\n",
              "    <tr>\n",
              "      <th>2</th>\n",
              "      <td>A3KAKFHY9DAC8A</td>\n",
              "      <td>0446547573</td>\n",
              "      <td>toobusyreading \"Inspired Kathy\"</td>\n",
              "      <td>1</td>\n",
              "      <td>1</td>\n",
              "      <td>I love Nicholas Sparks. I&amp;#8217;ve read everyt...</td>\n",
              "      <td>4</td>\n",
              "      <td>Great writing from Nicholas Sparks.</td>\n",
              "      <td>1404518400</td>\n",
              "      <td>07 5, 2014</td>\n",
              "    </tr>\n",
              "    <tr>\n",
              "      <th>3</th>\n",
              "      <td>ATYBCYD6BIXVL</td>\n",
              "      <td>0955809215</td>\n",
              "      <td>Chrissie</td>\n",
              "      <td>0</td>\n",
              "      <td>0</td>\n",
              "      <td>I really enjoyed this adventure and look forwa...</td>\n",
              "      <td>4</td>\n",
              "      <td>great</td>\n",
              "      <td>1389225600</td>\n",
              "      <td>01 9, 2014</td>\n",
              "    </tr>\n",
              "    <tr>\n",
              "      <th>4</th>\n",
              "      <td>A17K95SEU3J68U</td>\n",
              "      <td>0991500776</td>\n",
              "      <td>Sirde \"artist761\"</td>\n",
              "      <td>0</td>\n",
              "      <td>0</td>\n",
              "      <td>It was a decent read.. typical story line. Not...</td>\n",
              "      <td>3</td>\n",
              "      <td>It was a decent read.. typical story line ...</td>\n",
              "      <td>1404864000</td>\n",
              "      <td>07 9, 2014</td>\n",
              "    </tr>\n",
              "  </tbody>\n",
              "</table>\n",
              "</div>"
            ],
            "text/plain": [
              "       reviewerID        asin  ... unixReviewTime   reviewTime\n",
              "0  A1F2H80A1ZNN1N  B00GDM3NQC  ...     1390435200  01 23, 2014\n",
              "1   AI3DRTKCSK4KX  B00A5MREAM  ...     1399593600   05 9, 2014\n",
              "2  A3KAKFHY9DAC8A  0446547573  ...     1404518400   07 5, 2014\n",
              "3   ATYBCYD6BIXVL  0955809215  ...     1389225600   01 9, 2014\n",
              "4  A17K95SEU3J68U  0991500776  ...     1404864000   07 9, 2014\n",
              "\n",
              "[5 rows x 10 columns]"
            ]
          },
          "metadata": {
            "tags": []
          },
          "execution_count": 3
        }
      ]
    },
    {
      "cell_type": "markdown",
      "metadata": {
        "id": "_11GnmwYLzT-"
      },
      "source": [
        "**PERFORMING EDA**"
      ]
    },
    {
      "cell_type": "markdown",
      "metadata": {
        "id": "xzQQM_uiXP7R"
      },
      "source": [
        "**In the first case below, we say \"give us the values of the rows with index from 0 to 999 (inclusive) and columns labeled from \"reviewText\" to \"overall\" (inclusive)\". In the second case, we say \"give us the values of all the rows in the columns 5 to 7\" (as in a typical Python slice: the maximal value is not included).**"
      ]
    },
    {
      "cell_type": "code",
      "metadata": {
        "id": "4eNWEvMfTuGQ",
        "outputId": "4dad43ea-76f5-4be7-d5d8-d2375bcbb943",
        "colab": {
          "base_uri": "https://localhost:8080/",
          "height": 402
        }
      },
      "source": [
        "Books_small.loc[0:,'reviewText':'overall']"
      ],
      "execution_count": 4,
      "outputs": [
        {
          "output_type": "execute_result",
          "data": {
            "text/html": [
              "<div>\n",
              "<style scoped>\n",
              "    .dataframe tbody tr th:only-of-type {\n",
              "        vertical-align: middle;\n",
              "    }\n",
              "\n",
              "    .dataframe tbody tr th {\n",
              "        vertical-align: top;\n",
              "    }\n",
              "\n",
              "    .dataframe thead th {\n",
              "        text-align: right;\n",
              "    }\n",
              "</style>\n",
              "<table border=\"1\" class=\"dataframe\">\n",
              "  <thead>\n",
              "    <tr style=\"text-align: right;\">\n",
              "      <th></th>\n",
              "      <th>reviewText</th>\n",
              "      <th>overall</th>\n",
              "    </tr>\n",
              "  </thead>\n",
              "  <tbody>\n",
              "    <tr>\n",
              "      <th>0</th>\n",
              "      <td>I bought both boxed sets, books 1-5.  Really a...</td>\n",
              "      <td>5</td>\n",
              "    </tr>\n",
              "    <tr>\n",
              "      <th>1</th>\n",
              "      <td>I enjoyed this short book. But it was way way ...</td>\n",
              "      <td>3</td>\n",
              "    </tr>\n",
              "    <tr>\n",
              "      <th>2</th>\n",
              "      <td>I love Nicholas Sparks. I&amp;#8217;ve read everyt...</td>\n",
              "      <td>4</td>\n",
              "    </tr>\n",
              "    <tr>\n",
              "      <th>3</th>\n",
              "      <td>I really enjoyed this adventure and look forwa...</td>\n",
              "      <td>4</td>\n",
              "    </tr>\n",
              "    <tr>\n",
              "      <th>4</th>\n",
              "      <td>It was a decent read.. typical story line. Not...</td>\n",
              "      <td>3</td>\n",
              "    </tr>\n",
              "    <tr>\n",
              "      <th>...</th>\n",
              "      <td>...</td>\n",
              "      <td>...</td>\n",
              "    </tr>\n",
              "    <tr>\n",
              "      <th>9995</th>\n",
              "      <td>The whole series was great!  Melody is a fanta...</td>\n",
              "      <td>5</td>\n",
              "    </tr>\n",
              "    <tr>\n",
              "      <th>9996</th>\n",
              "      <td>I didn't thing that much of this book.  I am a...</td>\n",
              "      <td>3</td>\n",
              "    </tr>\n",
              "    <tr>\n",
              "      <th>9997</th>\n",
              "      <td>It is an emotional TRIP to the past with Trip ...</td>\n",
              "      <td>5</td>\n",
              "    </tr>\n",
              "    <tr>\n",
              "      <th>9998</th>\n",
              "      <td>This definitely got under my veins whereby I h...</td>\n",
              "      <td>5</td>\n",
              "    </tr>\n",
              "    <tr>\n",
              "      <th>9999</th>\n",
              "      <td>Highly recommend this entire trilogy. It is ve...</td>\n",
              "      <td>4</td>\n",
              "    </tr>\n",
              "  </tbody>\n",
              "</table>\n",
              "<p>10000 rows × 2 columns</p>\n",
              "</div>"
            ],
            "text/plain": [
              "                                             reviewText  overall\n",
              "0     I bought both boxed sets, books 1-5.  Really a...        5\n",
              "1     I enjoyed this short book. But it was way way ...        3\n",
              "2     I love Nicholas Sparks. I&#8217;ve read everyt...        4\n",
              "3     I really enjoyed this adventure and look forwa...        4\n",
              "4     It was a decent read.. typical story line. Not...        3\n",
              "...                                                 ...      ...\n",
              "9995  The whole series was great!  Melody is a fanta...        5\n",
              "9996  I didn't thing that much of this book.  I am a...        3\n",
              "9997  It is an emotional TRIP to the past with Trip ...        5\n",
              "9998  This definitely got under my veins whereby I h...        5\n",
              "9999  Highly recommend this entire trilogy. It is ve...        4\n",
              "\n",
              "[10000 rows x 2 columns]"
            ]
          },
          "metadata": {
            "tags": []
          },
          "execution_count": 4
        }
      ]
    },
    {
      "cell_type": "code",
      "metadata": {
        "id": "MbOgkmgjSnfv",
        "outputId": "60e47b30-0dad-4bf3-c65d-0bd346bba845",
        "colab": {
          "base_uri": "https://localhost:8080/",
          "height": 402
        }
      },
      "source": [
        "Books_small.iloc[0:,5:7]"
      ],
      "execution_count": 5,
      "outputs": [
        {
          "output_type": "execute_result",
          "data": {
            "text/html": [
              "<div>\n",
              "<style scoped>\n",
              "    .dataframe tbody tr th:only-of-type {\n",
              "        vertical-align: middle;\n",
              "    }\n",
              "\n",
              "    .dataframe tbody tr th {\n",
              "        vertical-align: top;\n",
              "    }\n",
              "\n",
              "    .dataframe thead th {\n",
              "        text-align: right;\n",
              "    }\n",
              "</style>\n",
              "<table border=\"1\" class=\"dataframe\">\n",
              "  <thead>\n",
              "    <tr style=\"text-align: right;\">\n",
              "      <th></th>\n",
              "      <th>reviewText</th>\n",
              "      <th>overall</th>\n",
              "    </tr>\n",
              "  </thead>\n",
              "  <tbody>\n",
              "    <tr>\n",
              "      <th>0</th>\n",
              "      <td>I bought both boxed sets, books 1-5.  Really a...</td>\n",
              "      <td>5</td>\n",
              "    </tr>\n",
              "    <tr>\n",
              "      <th>1</th>\n",
              "      <td>I enjoyed this short book. But it was way way ...</td>\n",
              "      <td>3</td>\n",
              "    </tr>\n",
              "    <tr>\n",
              "      <th>2</th>\n",
              "      <td>I love Nicholas Sparks. I&amp;#8217;ve read everyt...</td>\n",
              "      <td>4</td>\n",
              "    </tr>\n",
              "    <tr>\n",
              "      <th>3</th>\n",
              "      <td>I really enjoyed this adventure and look forwa...</td>\n",
              "      <td>4</td>\n",
              "    </tr>\n",
              "    <tr>\n",
              "      <th>4</th>\n",
              "      <td>It was a decent read.. typical story line. Not...</td>\n",
              "      <td>3</td>\n",
              "    </tr>\n",
              "    <tr>\n",
              "      <th>...</th>\n",
              "      <td>...</td>\n",
              "      <td>...</td>\n",
              "    </tr>\n",
              "    <tr>\n",
              "      <th>9995</th>\n",
              "      <td>The whole series was great!  Melody is a fanta...</td>\n",
              "      <td>5</td>\n",
              "    </tr>\n",
              "    <tr>\n",
              "      <th>9996</th>\n",
              "      <td>I didn't thing that much of this book.  I am a...</td>\n",
              "      <td>3</td>\n",
              "    </tr>\n",
              "    <tr>\n",
              "      <th>9997</th>\n",
              "      <td>It is an emotional TRIP to the past with Trip ...</td>\n",
              "      <td>5</td>\n",
              "    </tr>\n",
              "    <tr>\n",
              "      <th>9998</th>\n",
              "      <td>This definitely got under my veins whereby I h...</td>\n",
              "      <td>5</td>\n",
              "    </tr>\n",
              "    <tr>\n",
              "      <th>9999</th>\n",
              "      <td>Highly recommend this entire trilogy. It is ve...</td>\n",
              "      <td>4</td>\n",
              "    </tr>\n",
              "  </tbody>\n",
              "</table>\n",
              "<p>10000 rows × 2 columns</p>\n",
              "</div>"
            ],
            "text/plain": [
              "                                             reviewText  overall\n",
              "0     I bought both boxed sets, books 1-5.  Really a...        5\n",
              "1     I enjoyed this short book. But it was way way ...        3\n",
              "2     I love Nicholas Sparks. I&#8217;ve read everyt...        4\n",
              "3     I really enjoyed this adventure and look forwa...        4\n",
              "4     It was a decent read.. typical story line. Not...        3\n",
              "...                                                 ...      ...\n",
              "9995  The whole series was great!  Melody is a fanta...        5\n",
              "9996  I didn't thing that much of this book.  I am a...        3\n",
              "9997  It is an emotional TRIP to the past with Trip ...        5\n",
              "9998  This definitely got under my veins whereby I h...        5\n",
              "9999  Highly recommend this entire trilogy. It is ve...        4\n",
              "\n",
              "[10000 rows x 2 columns]"
            ]
          },
          "metadata": {
            "tags": []
          },
          "execution_count": 5
        }
      ]
    },
    {
      "cell_type": "code",
      "metadata": {
        "id": "XRoVuIVuK_-e",
        "outputId": "172674ae-a529-4662-fc84-9dc3b4cd26dd",
        "colab": {
          "base_uri": "https://localhost:8080/",
          "height": 34
        }
      },
      "source": [
        "Books_small.shape"
      ],
      "execution_count": 6,
      "outputs": [
        {
          "output_type": "execute_result",
          "data": {
            "text/plain": [
              "(10000, 10)"
            ]
          },
          "metadata": {
            "tags": []
          },
          "execution_count": 6
        }
      ]
    },
    {
      "cell_type": "code",
      "metadata": {
        "id": "-6YwDf4bPlIO",
        "outputId": "b401afd1-c554-410d-85bb-857af86df6c5",
        "colab": {
          "base_uri": "https://localhost:8080/",
          "height": 118
        }
      },
      "source": [
        "Books_small['overall'].value_counts() #<---Gives Us Number Of Occurences Of A Particular Value in Digits"
      ],
      "execution_count": 7,
      "outputs": [
        {
          "output_type": "execute_result",
          "data": {
            "text/plain": [
              "5    5930\n",
              "4    2448\n",
              "3     978\n",
              "2     375\n",
              "1     269\n",
              "Name: overall, dtype: int64"
            ]
          },
          "metadata": {
            "tags": []
          },
          "execution_count": 7
        }
      ]
    },
    {
      "cell_type": "code",
      "metadata": {
        "id": "C_BBsKPPQz9p",
        "outputId": "7f2a4dbc-f0fe-48c2-c37e-1eabdd03611d",
        "colab": {
          "base_uri": "https://localhost:8080/",
          "height": 118
        }
      },
      "source": [
        "Books_small['overall'].value_counts(normalize=True)  #<---Gives Us Number Of Occurences Of A Particular Value in Fractions"
      ],
      "execution_count": 8,
      "outputs": [
        {
          "output_type": "execute_result",
          "data": {
            "text/plain": [
              "5    0.5930\n",
              "4    0.2448\n",
              "3    0.0978\n",
              "2    0.0375\n",
              "1    0.0269\n",
              "Name: overall, dtype: float64"
            ]
          },
          "metadata": {
            "tags": []
          },
          "execution_count": 8
        }
      ]
    },
    {
      "cell_type": "code",
      "metadata": {
        "id": "gQafMBEJRR23",
        "outputId": "3d3e6fcb-ec99-47bd-c7e6-9893d04d42ed",
        "colab": {
          "base_uri": "https://localhost:8080/",
          "height": 195
        }
      },
      "source": [
        "Books_small.sort_values(by='overall', ascending=False).head() #<--Starts From Big And Goes Down"
      ],
      "execution_count": 9,
      "outputs": [
        {
          "output_type": "execute_result",
          "data": {
            "text/html": [
              "<div>\n",
              "<style scoped>\n",
              "    .dataframe tbody tr th:only-of-type {\n",
              "        vertical-align: middle;\n",
              "    }\n",
              "\n",
              "    .dataframe tbody tr th {\n",
              "        vertical-align: top;\n",
              "    }\n",
              "\n",
              "    .dataframe thead th {\n",
              "        text-align: right;\n",
              "    }\n",
              "</style>\n",
              "<table border=\"1\" class=\"dataframe\">\n",
              "  <thead>\n",
              "    <tr style=\"text-align: right;\">\n",
              "      <th></th>\n",
              "      <th>reviewerID</th>\n",
              "      <th>asin</th>\n",
              "      <th>reviewerName</th>\n",
              "      <th>helpful/0</th>\n",
              "      <th>helpful/1</th>\n",
              "      <th>reviewText</th>\n",
              "      <th>overall</th>\n",
              "      <th>summary</th>\n",
              "      <th>unixReviewTime</th>\n",
              "      <th>reviewTime</th>\n",
              "    </tr>\n",
              "  </thead>\n",
              "  <tbody>\n",
              "    <tr>\n",
              "      <th>0</th>\n",
              "      <td>A1F2H80A1ZNN1N</td>\n",
              "      <td>B00GDM3NQC</td>\n",
              "      <td>Connie Correll</td>\n",
              "      <td>0</td>\n",
              "      <td>0</td>\n",
              "      <td>I bought both boxed sets, books 1-5.  Really a...</td>\n",
              "      <td>5</td>\n",
              "      <td>Can't stop reading!</td>\n",
              "      <td>1390435200</td>\n",
              "      <td>01 23, 2014</td>\n",
              "    </tr>\n",
              "    <tr>\n",
              "      <th>5801</th>\n",
              "      <td>A1TZTFYEOPR4CO</td>\n",
              "      <td>1250037220</td>\n",
              "      <td>Brainchild</td>\n",
              "      <td>0</td>\n",
              "      <td>0</td>\n",
              "      <td>This was a great read. I really enjoyed this b...</td>\n",
              "      <td>5</td>\n",
              "      <td>Excellent read</td>\n",
              "      <td>1402617600</td>\n",
              "      <td>06 13, 2014</td>\n",
              "    </tr>\n",
              "    <tr>\n",
              "      <th>5797</th>\n",
              "      <td>AFE0AGQT50MBJ</td>\n",
              "      <td>1449417094</td>\n",
              "      <td>KV Trout</td>\n",
              "      <td>0</td>\n",
              "      <td>0</td>\n",
              "      <td>There I said it. So call me classless, tastele...</td>\n",
              "      <td>5</td>\n",
              "      <td>I like Thomas Kinkade's style</td>\n",
              "      <td>1396828800</td>\n",
              "      <td>04 7, 2014</td>\n",
              "    </tr>\n",
              "    <tr>\n",
              "      <th>5795</th>\n",
              "      <td>A2H0KFB0IUNRT7</td>\n",
              "      <td>B005REXCKE</td>\n",
              "      <td>Stanley C. Pate</td>\n",
              "      <td>0</td>\n",
              "      <td>0</td>\n",
              "      <td>I have to admit that I purchased this book thi...</td>\n",
              "      <td>5</td>\n",
              "      <td>A very enjoyable read!</td>\n",
              "      <td>1393545600</td>\n",
              "      <td>02 28, 2014</td>\n",
              "    </tr>\n",
              "    <tr>\n",
              "      <th>5794</th>\n",
              "      <td>A2YJ8VP1SSHJ7</td>\n",
              "      <td>B007YN8IGE</td>\n",
              "      <td>NFerguson</td>\n",
              "      <td>0</td>\n",
              "      <td>0</td>\n",
              "      <td>The bound series has always intrigued me. I lo...</td>\n",
              "      <td>5</td>\n",
              "      <td>Bound By The Night</td>\n",
              "      <td>1391040000</td>\n",
              "      <td>01 30, 2014</td>\n",
              "    </tr>\n",
              "  </tbody>\n",
              "</table>\n",
              "</div>"
            ],
            "text/plain": [
              "          reviewerID        asin  ... unixReviewTime   reviewTime\n",
              "0     A1F2H80A1ZNN1N  B00GDM3NQC  ...     1390435200  01 23, 2014\n",
              "5801  A1TZTFYEOPR4CO  1250037220  ...     1402617600  06 13, 2014\n",
              "5797   AFE0AGQT50MBJ  1449417094  ...     1396828800   04 7, 2014\n",
              "5795  A2H0KFB0IUNRT7  B005REXCKE  ...     1393545600  02 28, 2014\n",
              "5794   A2YJ8VP1SSHJ7  B007YN8IGE  ...     1391040000  01 30, 2014\n",
              "\n",
              "[5 rows x 10 columns]"
            ]
          },
          "metadata": {
            "tags": []
          },
          "execution_count": 9
        }
      ]
    },
    {
      "cell_type": "code",
      "metadata": {
        "id": "zww7iquURslI",
        "outputId": "85d442e6-5eb3-4c5e-9c93-f6b9402da058",
        "colab": {
          "base_uri": "https://localhost:8080/",
          "height": 279
        }
      },
      "source": [
        "Books_small.sort_values(by='overall', ascending=True).head() #<--Starts From Low And Goes Up"
      ],
      "execution_count": 10,
      "outputs": [
        {
          "output_type": "execute_result",
          "data": {
            "text/html": [
              "<div>\n",
              "<style scoped>\n",
              "    .dataframe tbody tr th:only-of-type {\n",
              "        vertical-align: middle;\n",
              "    }\n",
              "\n",
              "    .dataframe tbody tr th {\n",
              "        vertical-align: top;\n",
              "    }\n",
              "\n",
              "    .dataframe thead th {\n",
              "        text-align: right;\n",
              "    }\n",
              "</style>\n",
              "<table border=\"1\" class=\"dataframe\">\n",
              "  <thead>\n",
              "    <tr style=\"text-align: right;\">\n",
              "      <th></th>\n",
              "      <th>reviewerID</th>\n",
              "      <th>asin</th>\n",
              "      <th>reviewerName</th>\n",
              "      <th>helpful/0</th>\n",
              "      <th>helpful/1</th>\n",
              "      <th>reviewText</th>\n",
              "      <th>overall</th>\n",
              "      <th>summary</th>\n",
              "      <th>unixReviewTime</th>\n",
              "      <th>reviewTime</th>\n",
              "    </tr>\n",
              "  </thead>\n",
              "  <tbody>\n",
              "    <tr>\n",
              "      <th>3419</th>\n",
              "      <td>AQY5XBYSENNZQ</td>\n",
              "      <td>1250006082</td>\n",
              "      <td>Quickbeam</td>\n",
              "      <td>3</td>\n",
              "      <td>3</td>\n",
              "      <td>Based upon the blurb alone, I thought this sou...</td>\n",
              "      <td>1</td>\n",
              "      <td>A leaden Edwardian slog.</td>\n",
              "      <td>1400544000</td>\n",
              "      <td>05 20, 2014</td>\n",
              "    </tr>\n",
              "    <tr>\n",
              "      <th>8649</th>\n",
              "      <td>A2PWDBZQPR9JU6</td>\n",
              "      <td>0399161465</td>\n",
              "      <td>Stacie Gorkow \"Sincerely Stacie\"</td>\n",
              "      <td>3</td>\n",
              "      <td>3</td>\n",
              "      <td>Rose is a typist in the local police precinct....</td>\n",
              "      <td>1</td>\n",
              "      <td>Couldn't Finish It - Just Didn't Work for Me</td>\n",
              "      <td>1398297600</td>\n",
              "      <td>04 24, 2014</td>\n",
              "    </tr>\n",
              "    <tr>\n",
              "      <th>2730</th>\n",
              "      <td>A9FIEIKKPTX89</td>\n",
              "      <td>B00HOHMIVQ</td>\n",
              "      <td>Steven M. Morris \"booklover\"</td>\n",
              "      <td>6</td>\n",
              "      <td>7</td>\n",
              "      <td>When is a couple doing the killing, She is alw...</td>\n",
              "      <td>1</td>\n",
              "      <td>Not very detailed!</td>\n",
              "      <td>1392076800</td>\n",
              "      <td>02 11, 2014</td>\n",
              "    </tr>\n",
              "    <tr>\n",
              "      <th>1595</th>\n",
              "      <td>AKJEYA96I1QE6</td>\n",
              "      <td>0764204319</td>\n",
              "      <td>nyccowgirl</td>\n",
              "      <td>1</td>\n",
              "      <td>2</td>\n",
              "      <td>There were a number of times when I wondered w...</td>\n",
              "      <td>1</td>\n",
              "      <td>Slow...</td>\n",
              "      <td>1390694400</td>\n",
              "      <td>01 26, 2014</td>\n",
              "    </tr>\n",
              "    <tr>\n",
              "      <th>2731</th>\n",
              "      <td>A3LUUNZVGSSA3M</td>\n",
              "      <td>0446517321</td>\n",
              "      <td>Timmy God lover \"Tim E B\"</td>\n",
              "      <td>0</td>\n",
              "      <td>1</td>\n",
              "      <td>This book depicts women as they really do not ...</td>\n",
              "      <td>1</td>\n",
              "      <td>Degrading</td>\n",
              "      <td>1400457600</td>\n",
              "      <td>05 19, 2014</td>\n",
              "    </tr>\n",
              "  </tbody>\n",
              "</table>\n",
              "</div>"
            ],
            "text/plain": [
              "          reviewerID        asin  ... unixReviewTime   reviewTime\n",
              "3419   AQY5XBYSENNZQ  1250006082  ...     1400544000  05 20, 2014\n",
              "8649  A2PWDBZQPR9JU6  0399161465  ...     1398297600  04 24, 2014\n",
              "2730   A9FIEIKKPTX89  B00HOHMIVQ  ...     1392076800  02 11, 2014\n",
              "1595   AKJEYA96I1QE6  0764204319  ...     1390694400  01 26, 2014\n",
              "2731  A3LUUNZVGSSA3M  0446517321  ...     1400457600  05 19, 2014\n",
              "\n",
              "[5 rows x 10 columns]"
            ]
          },
          "metadata": {
            "tags": []
          },
          "execution_count": 10
        }
      ]
    },
    {
      "cell_type": "code",
      "metadata": {
        "id": "5x_Ulh3AML6S",
        "outputId": "e2ea7e9b-7e8e-4b7c-d558-1405f7f0038e",
        "colab": {
          "base_uri": "https://localhost:8080/",
          "height": 284
        }
      },
      "source": [
        "Books_small.describe()"
      ],
      "execution_count": 11,
      "outputs": [
        {
          "output_type": "execute_result",
          "data": {
            "text/html": [
              "<div>\n",
              "<style scoped>\n",
              "    .dataframe tbody tr th:only-of-type {\n",
              "        vertical-align: middle;\n",
              "    }\n",
              "\n",
              "    .dataframe tbody tr th {\n",
              "        vertical-align: top;\n",
              "    }\n",
              "\n",
              "    .dataframe thead th {\n",
              "        text-align: right;\n",
              "    }\n",
              "</style>\n",
              "<table border=\"1\" class=\"dataframe\">\n",
              "  <thead>\n",
              "    <tr style=\"text-align: right;\">\n",
              "      <th></th>\n",
              "      <th>helpful/0</th>\n",
              "      <th>helpful/1</th>\n",
              "      <th>overall</th>\n",
              "      <th>unixReviewTime</th>\n",
              "    </tr>\n",
              "  </thead>\n",
              "  <tbody>\n",
              "    <tr>\n",
              "      <th>count</th>\n",
              "      <td>10000.000000</td>\n",
              "      <td>10000.000000</td>\n",
              "      <td>10000.000000</td>\n",
              "      <td>1.000000e+04</td>\n",
              "    </tr>\n",
              "    <tr>\n",
              "      <th>mean</th>\n",
              "      <td>0.583800</td>\n",
              "      <td>0.797400</td>\n",
              "      <td>4.339500</td>\n",
              "      <td>1.396855e+09</td>\n",
              "    </tr>\n",
              "    <tr>\n",
              "      <th>std</th>\n",
              "      <td>2.156396</td>\n",
              "      <td>3.163219</td>\n",
              "      <td>0.983736</td>\n",
              "      <td>4.931959e+06</td>\n",
              "    </tr>\n",
              "    <tr>\n",
              "      <th>min</th>\n",
              "      <td>0.000000</td>\n",
              "      <td>0.000000</td>\n",
              "      <td>1.000000</td>\n",
              "      <td>1.388534e+09</td>\n",
              "    </tr>\n",
              "    <tr>\n",
              "      <th>25%</th>\n",
              "      <td>0.000000</td>\n",
              "      <td>0.000000</td>\n",
              "      <td>4.000000</td>\n",
              "      <td>1.392509e+09</td>\n",
              "    </tr>\n",
              "    <tr>\n",
              "      <th>50%</th>\n",
              "      <td>0.000000</td>\n",
              "      <td>0.000000</td>\n",
              "      <td>5.000000</td>\n",
              "      <td>1.396915e+09</td>\n",
              "    </tr>\n",
              "    <tr>\n",
              "      <th>75%</th>\n",
              "      <td>1.000000</td>\n",
              "      <td>1.000000</td>\n",
              "      <td>5.000000</td>\n",
              "      <td>1.401062e+09</td>\n",
              "    </tr>\n",
              "    <tr>\n",
              "      <th>max</th>\n",
              "      <td>100.000000</td>\n",
              "      <td>154.000000</td>\n",
              "      <td>5.000000</td>\n",
              "      <td>1.406074e+09</td>\n",
              "    </tr>\n",
              "  </tbody>\n",
              "</table>\n",
              "</div>"
            ],
            "text/plain": [
              "          helpful/0     helpful/1       overall  unixReviewTime\n",
              "count  10000.000000  10000.000000  10000.000000    1.000000e+04\n",
              "mean       0.583800      0.797400      4.339500    1.396855e+09\n",
              "std        2.156396      3.163219      0.983736    4.931959e+06\n",
              "min        0.000000      0.000000      1.000000    1.388534e+09\n",
              "25%        0.000000      0.000000      4.000000    1.392509e+09\n",
              "50%        0.000000      0.000000      5.000000    1.396915e+09\n",
              "75%        1.000000      1.000000      5.000000    1.401062e+09\n",
              "max      100.000000    154.000000      5.000000    1.406074e+09"
            ]
          },
          "metadata": {
            "tags": []
          },
          "execution_count": 11
        }
      ]
    },
    {
      "cell_type": "code",
      "metadata": {
        "id": "T2bmtO9iMfah",
        "outputId": "9bbef620-6d23-4519-9f5a-3c4884004981",
        "colab": {
          "base_uri": "https://localhost:8080/",
          "height": 279
        }
      },
      "source": [
        "Books_small.head()"
      ],
      "execution_count": 12,
      "outputs": [
        {
          "output_type": "execute_result",
          "data": {
            "text/html": [
              "<div>\n",
              "<style scoped>\n",
              "    .dataframe tbody tr th:only-of-type {\n",
              "        vertical-align: middle;\n",
              "    }\n",
              "\n",
              "    .dataframe tbody tr th {\n",
              "        vertical-align: top;\n",
              "    }\n",
              "\n",
              "    .dataframe thead th {\n",
              "        text-align: right;\n",
              "    }\n",
              "</style>\n",
              "<table border=\"1\" class=\"dataframe\">\n",
              "  <thead>\n",
              "    <tr style=\"text-align: right;\">\n",
              "      <th></th>\n",
              "      <th>reviewerID</th>\n",
              "      <th>asin</th>\n",
              "      <th>reviewerName</th>\n",
              "      <th>helpful/0</th>\n",
              "      <th>helpful/1</th>\n",
              "      <th>reviewText</th>\n",
              "      <th>overall</th>\n",
              "      <th>summary</th>\n",
              "      <th>unixReviewTime</th>\n",
              "      <th>reviewTime</th>\n",
              "    </tr>\n",
              "  </thead>\n",
              "  <tbody>\n",
              "    <tr>\n",
              "      <th>0</th>\n",
              "      <td>A1F2H80A1ZNN1N</td>\n",
              "      <td>B00GDM3NQC</td>\n",
              "      <td>Connie Correll</td>\n",
              "      <td>0</td>\n",
              "      <td>0</td>\n",
              "      <td>I bought both boxed sets, books 1-5.  Really a...</td>\n",
              "      <td>5</td>\n",
              "      <td>Can't stop reading!</td>\n",
              "      <td>1390435200</td>\n",
              "      <td>01 23, 2014</td>\n",
              "    </tr>\n",
              "    <tr>\n",
              "      <th>1</th>\n",
              "      <td>AI3DRTKCSK4KX</td>\n",
              "      <td>B00A5MREAM</td>\n",
              "      <td>Grandma</td>\n",
              "      <td>0</td>\n",
              "      <td>0</td>\n",
              "      <td>I enjoyed this short book. But it was way way ...</td>\n",
              "      <td>3</td>\n",
              "      <td>A leaf on the wind of all hallows</td>\n",
              "      <td>1399593600</td>\n",
              "      <td>05 9, 2014</td>\n",
              "    </tr>\n",
              "    <tr>\n",
              "      <th>2</th>\n",
              "      <td>A3KAKFHY9DAC8A</td>\n",
              "      <td>0446547573</td>\n",
              "      <td>toobusyreading \"Inspired Kathy\"</td>\n",
              "      <td>1</td>\n",
              "      <td>1</td>\n",
              "      <td>I love Nicholas Sparks. I&amp;#8217;ve read everyt...</td>\n",
              "      <td>4</td>\n",
              "      <td>Great writing from Nicholas Sparks.</td>\n",
              "      <td>1404518400</td>\n",
              "      <td>07 5, 2014</td>\n",
              "    </tr>\n",
              "    <tr>\n",
              "      <th>3</th>\n",
              "      <td>ATYBCYD6BIXVL</td>\n",
              "      <td>0955809215</td>\n",
              "      <td>Chrissie</td>\n",
              "      <td>0</td>\n",
              "      <td>0</td>\n",
              "      <td>I really enjoyed this adventure and look forwa...</td>\n",
              "      <td>4</td>\n",
              "      <td>great</td>\n",
              "      <td>1389225600</td>\n",
              "      <td>01 9, 2014</td>\n",
              "    </tr>\n",
              "    <tr>\n",
              "      <th>4</th>\n",
              "      <td>A17K95SEU3J68U</td>\n",
              "      <td>0991500776</td>\n",
              "      <td>Sirde \"artist761\"</td>\n",
              "      <td>0</td>\n",
              "      <td>0</td>\n",
              "      <td>It was a decent read.. typical story line. Not...</td>\n",
              "      <td>3</td>\n",
              "      <td>It was a decent read.. typical story line ...</td>\n",
              "      <td>1404864000</td>\n",
              "      <td>07 9, 2014</td>\n",
              "    </tr>\n",
              "  </tbody>\n",
              "</table>\n",
              "</div>"
            ],
            "text/plain": [
              "       reviewerID        asin  ... unixReviewTime   reviewTime\n",
              "0  A1F2H80A1ZNN1N  B00GDM3NQC  ...     1390435200  01 23, 2014\n",
              "1   AI3DRTKCSK4KX  B00A5MREAM  ...     1399593600   05 9, 2014\n",
              "2  A3KAKFHY9DAC8A  0446547573  ...     1404518400   07 5, 2014\n",
              "3   ATYBCYD6BIXVL  0955809215  ...     1389225600   01 9, 2014\n",
              "4  A17K95SEU3J68U  0991500776  ...     1404864000   07 9, 2014\n",
              "\n",
              "[5 rows x 10 columns]"
            ]
          },
          "metadata": {
            "tags": []
          },
          "execution_count": 12
        }
      ]
    },
    {
      "cell_type": "code",
      "metadata": {
        "id": "UoBANhxdMxOy",
        "outputId": "40170969-851f-426c-c31d-90b450f513e0",
        "colab": {
          "base_uri": "https://localhost:8080/",
          "height": 279
        }
      },
      "source": [
        "Books_small.tail()"
      ],
      "execution_count": 13,
      "outputs": [
        {
          "output_type": "execute_result",
          "data": {
            "text/html": [
              "<div>\n",
              "<style scoped>\n",
              "    .dataframe tbody tr th:only-of-type {\n",
              "        vertical-align: middle;\n",
              "    }\n",
              "\n",
              "    .dataframe tbody tr th {\n",
              "        vertical-align: top;\n",
              "    }\n",
              "\n",
              "    .dataframe thead th {\n",
              "        text-align: right;\n",
              "    }\n",
              "</style>\n",
              "<table border=\"1\" class=\"dataframe\">\n",
              "  <thead>\n",
              "    <tr style=\"text-align: right;\">\n",
              "      <th></th>\n",
              "      <th>reviewerID</th>\n",
              "      <th>asin</th>\n",
              "      <th>reviewerName</th>\n",
              "      <th>helpful/0</th>\n",
              "      <th>helpful/1</th>\n",
              "      <th>reviewText</th>\n",
              "      <th>overall</th>\n",
              "      <th>summary</th>\n",
              "      <th>unixReviewTime</th>\n",
              "      <th>reviewTime</th>\n",
              "    </tr>\n",
              "  </thead>\n",
              "  <tbody>\n",
              "    <tr>\n",
              "      <th>9995</th>\n",
              "      <td>A32FV8MF6KTRYE</td>\n",
              "      <td>0615676863</td>\n",
              "      <td>S.Wilson</td>\n",
              "      <td>0</td>\n",
              "      <td>0</td>\n",
              "      <td>The whole series was great!  Melody is a fanta...</td>\n",
              "      <td>5</td>\n",
              "      <td>Great</td>\n",
              "      <td>1389830400</td>\n",
              "      <td>01 16, 2014</td>\n",
              "    </tr>\n",
              "    <tr>\n",
              "      <th>9996</th>\n",
              "      <td>A2IYZ41783TX4R</td>\n",
              "      <td>B00GG2DWO2</td>\n",
              "      <td>Lynn Demsky \"Lynn/MI\"</td>\n",
              "      <td>0</td>\n",
              "      <td>0</td>\n",
              "      <td>I didn't thing that much of this book.  I am a...</td>\n",
              "      <td>3</td>\n",
              "      <td>an anchor might have helped....</td>\n",
              "      <td>1391731200</td>\n",
              "      <td>02 7, 2014</td>\n",
              "    </tr>\n",
              "    <tr>\n",
              "      <th>9997</th>\n",
              "      <td>A1GHQOXZME7VLL</td>\n",
              "      <td>1482012294</td>\n",
              "      <td>CABorgford</td>\n",
              "      <td>0</td>\n",
              "      <td>0</td>\n",
              "      <td>It is an emotional TRIP to the past with Trip ...</td>\n",
              "      <td>5</td>\n",
              "      <td>Must Read Series - Timing is Everything</td>\n",
              "      <td>1388880000</td>\n",
              "      <td>01 5, 2014</td>\n",
              "    </tr>\n",
              "    <tr>\n",
              "      <th>9998</th>\n",
              "      <td>A37ZXVSFNM1UAZ</td>\n",
              "      <td>1481978063</td>\n",
              "      <td>V. Jones \"Phoenix Rising\"</td>\n",
              "      <td>0</td>\n",
              "      <td>0</td>\n",
              "      <td>This definitely got under my veins whereby I h...</td>\n",
              "      <td>5</td>\n",
              "      <td>This story grew on me!</td>\n",
              "      <td>1392076800</td>\n",
              "      <td>02 11, 2014</td>\n",
              "    </tr>\n",
              "    <tr>\n",
              "      <th>9999</th>\n",
              "      <td>A1EZD7IJOOAF6S</td>\n",
              "      <td>0956998569</td>\n",
              "      <td>Amazon Customer</td>\n",
              "      <td>1</td>\n",
              "      <td>1</td>\n",
              "      <td>Highly recommend this entire trilogy. It is ve...</td>\n",
              "      <td>4</td>\n",
              "      <td>truly enjoyed</td>\n",
              "      <td>1402358400</td>\n",
              "      <td>06 10, 2014</td>\n",
              "    </tr>\n",
              "  </tbody>\n",
              "</table>\n",
              "</div>"
            ],
            "text/plain": [
              "          reviewerID        asin  ... unixReviewTime   reviewTime\n",
              "9995  A32FV8MF6KTRYE  0615676863  ...     1389830400  01 16, 2014\n",
              "9996  A2IYZ41783TX4R  B00GG2DWO2  ...     1391731200   02 7, 2014\n",
              "9997  A1GHQOXZME7VLL  1482012294  ...     1388880000   01 5, 2014\n",
              "9998  A37ZXVSFNM1UAZ  1481978063  ...     1392076800  02 11, 2014\n",
              "9999  A1EZD7IJOOAF6S  0956998569  ...     1402358400  06 10, 2014\n",
              "\n",
              "[5 rows x 10 columns]"
            ]
          },
          "metadata": {
            "tags": []
          },
          "execution_count": 13
        }
      ]
    },
    {
      "cell_type": "code",
      "metadata": {
        "id": "Uk00CxW1M1B1",
        "outputId": "ac61c4c6-c3ac-4316-d856-3effedc07c77",
        "colab": {
          "base_uri": "https://localhost:8080/",
          "height": 67
        }
      },
      "source": [
        "Books_small.columns"
      ],
      "execution_count": 14,
      "outputs": [
        {
          "output_type": "execute_result",
          "data": {
            "text/plain": [
              "Index(['reviewerID', 'asin', 'reviewerName', 'helpful/0', 'helpful/1',\n",
              "       'reviewText', 'overall', 'summary', 'unixReviewTime', 'reviewTime'],\n",
              "      dtype='object')"
            ]
          },
          "metadata": {
            "tags": []
          },
          "execution_count": 14
        }
      ]
    },
    {
      "cell_type": "code",
      "metadata": {
        "id": "HADIF-SNNJh9",
        "outputId": "31c4d414-4dd3-49ba-a461-e56cfcaf5d83",
        "colab": {
          "base_uri": "https://localhost:8080/",
          "height": 302
        }
      },
      "source": [
        "Books_small.info()"
      ],
      "execution_count": 15,
      "outputs": [
        {
          "output_type": "stream",
          "text": [
            "<class 'pandas.core.frame.DataFrame'>\n",
            "RangeIndex: 10000 entries, 0 to 9999\n",
            "Data columns (total 10 columns):\n",
            " #   Column          Non-Null Count  Dtype \n",
            "---  ------          --------------  ----- \n",
            " 0   reviewerID      10000 non-null  object\n",
            " 1   asin            10000 non-null  object\n",
            " 2   reviewerName    9957 non-null   object\n",
            " 3   helpful/0       10000 non-null  int64 \n",
            " 4   helpful/1       10000 non-null  int64 \n",
            " 5   reviewText      10000 non-null  object\n",
            " 6   overall         10000 non-null  int64 \n",
            " 7   summary         10000 non-null  object\n",
            " 8   unixReviewTime  10000 non-null  int64 \n",
            " 9   reviewTime      10000 non-null  object\n",
            "dtypes: int64(4), object(6)\n",
            "memory usage: 781.4+ KB\n"
          ],
          "name": "stdout"
        }
      ]
    },
    {
      "cell_type": "code",
      "metadata": {
        "id": "FoBAPn9nNUOx",
        "outputId": "6b3b6efe-e5d2-4a4c-827e-1d650a36974d",
        "colab": {
          "base_uri": "https://localhost:8080/",
          "height": 34
        }
      },
      "source": [
        "Books_small.index"
      ],
      "execution_count": 16,
      "outputs": [
        {
          "output_type": "execute_result",
          "data": {
            "text/plain": [
              "RangeIndex(start=0, stop=10000, step=1)"
            ]
          },
          "metadata": {
            "tags": []
          },
          "execution_count": 16
        }
      ]
    },
    {
      "cell_type": "code",
      "metadata": {
        "id": "dr9_NkGxNoaw",
        "outputId": "73323adb-e005-41be-bee8-0f36028afe69",
        "colab": {
          "base_uri": "https://localhost:8080/",
          "height": 402
        }
      },
      "source": [
        "Books_small.isnull()"
      ],
      "execution_count": 17,
      "outputs": [
        {
          "output_type": "execute_result",
          "data": {
            "text/html": [
              "<div>\n",
              "<style scoped>\n",
              "    .dataframe tbody tr th:only-of-type {\n",
              "        vertical-align: middle;\n",
              "    }\n",
              "\n",
              "    .dataframe tbody tr th {\n",
              "        vertical-align: top;\n",
              "    }\n",
              "\n",
              "    .dataframe thead th {\n",
              "        text-align: right;\n",
              "    }\n",
              "</style>\n",
              "<table border=\"1\" class=\"dataframe\">\n",
              "  <thead>\n",
              "    <tr style=\"text-align: right;\">\n",
              "      <th></th>\n",
              "      <th>reviewerID</th>\n",
              "      <th>asin</th>\n",
              "      <th>reviewerName</th>\n",
              "      <th>helpful/0</th>\n",
              "      <th>helpful/1</th>\n",
              "      <th>reviewText</th>\n",
              "      <th>overall</th>\n",
              "      <th>summary</th>\n",
              "      <th>unixReviewTime</th>\n",
              "      <th>reviewTime</th>\n",
              "    </tr>\n",
              "  </thead>\n",
              "  <tbody>\n",
              "    <tr>\n",
              "      <th>0</th>\n",
              "      <td>False</td>\n",
              "      <td>False</td>\n",
              "      <td>False</td>\n",
              "      <td>False</td>\n",
              "      <td>False</td>\n",
              "      <td>False</td>\n",
              "      <td>False</td>\n",
              "      <td>False</td>\n",
              "      <td>False</td>\n",
              "      <td>False</td>\n",
              "    </tr>\n",
              "    <tr>\n",
              "      <th>1</th>\n",
              "      <td>False</td>\n",
              "      <td>False</td>\n",
              "      <td>False</td>\n",
              "      <td>False</td>\n",
              "      <td>False</td>\n",
              "      <td>False</td>\n",
              "      <td>False</td>\n",
              "      <td>False</td>\n",
              "      <td>False</td>\n",
              "      <td>False</td>\n",
              "    </tr>\n",
              "    <tr>\n",
              "      <th>2</th>\n",
              "      <td>False</td>\n",
              "      <td>False</td>\n",
              "      <td>False</td>\n",
              "      <td>False</td>\n",
              "      <td>False</td>\n",
              "      <td>False</td>\n",
              "      <td>False</td>\n",
              "      <td>False</td>\n",
              "      <td>False</td>\n",
              "      <td>False</td>\n",
              "    </tr>\n",
              "    <tr>\n",
              "      <th>3</th>\n",
              "      <td>False</td>\n",
              "      <td>False</td>\n",
              "      <td>False</td>\n",
              "      <td>False</td>\n",
              "      <td>False</td>\n",
              "      <td>False</td>\n",
              "      <td>False</td>\n",
              "      <td>False</td>\n",
              "      <td>False</td>\n",
              "      <td>False</td>\n",
              "    </tr>\n",
              "    <tr>\n",
              "      <th>4</th>\n",
              "      <td>False</td>\n",
              "      <td>False</td>\n",
              "      <td>False</td>\n",
              "      <td>False</td>\n",
              "      <td>False</td>\n",
              "      <td>False</td>\n",
              "      <td>False</td>\n",
              "      <td>False</td>\n",
              "      <td>False</td>\n",
              "      <td>False</td>\n",
              "    </tr>\n",
              "    <tr>\n",
              "      <th>...</th>\n",
              "      <td>...</td>\n",
              "      <td>...</td>\n",
              "      <td>...</td>\n",
              "      <td>...</td>\n",
              "      <td>...</td>\n",
              "      <td>...</td>\n",
              "      <td>...</td>\n",
              "      <td>...</td>\n",
              "      <td>...</td>\n",
              "      <td>...</td>\n",
              "    </tr>\n",
              "    <tr>\n",
              "      <th>9995</th>\n",
              "      <td>False</td>\n",
              "      <td>False</td>\n",
              "      <td>False</td>\n",
              "      <td>False</td>\n",
              "      <td>False</td>\n",
              "      <td>False</td>\n",
              "      <td>False</td>\n",
              "      <td>False</td>\n",
              "      <td>False</td>\n",
              "      <td>False</td>\n",
              "    </tr>\n",
              "    <tr>\n",
              "      <th>9996</th>\n",
              "      <td>False</td>\n",
              "      <td>False</td>\n",
              "      <td>False</td>\n",
              "      <td>False</td>\n",
              "      <td>False</td>\n",
              "      <td>False</td>\n",
              "      <td>False</td>\n",
              "      <td>False</td>\n",
              "      <td>False</td>\n",
              "      <td>False</td>\n",
              "    </tr>\n",
              "    <tr>\n",
              "      <th>9997</th>\n",
              "      <td>False</td>\n",
              "      <td>False</td>\n",
              "      <td>False</td>\n",
              "      <td>False</td>\n",
              "      <td>False</td>\n",
              "      <td>False</td>\n",
              "      <td>False</td>\n",
              "      <td>False</td>\n",
              "      <td>False</td>\n",
              "      <td>False</td>\n",
              "    </tr>\n",
              "    <tr>\n",
              "      <th>9998</th>\n",
              "      <td>False</td>\n",
              "      <td>False</td>\n",
              "      <td>False</td>\n",
              "      <td>False</td>\n",
              "      <td>False</td>\n",
              "      <td>False</td>\n",
              "      <td>False</td>\n",
              "      <td>False</td>\n",
              "      <td>False</td>\n",
              "      <td>False</td>\n",
              "    </tr>\n",
              "    <tr>\n",
              "      <th>9999</th>\n",
              "      <td>False</td>\n",
              "      <td>False</td>\n",
              "      <td>False</td>\n",
              "      <td>False</td>\n",
              "      <td>False</td>\n",
              "      <td>False</td>\n",
              "      <td>False</td>\n",
              "      <td>False</td>\n",
              "      <td>False</td>\n",
              "      <td>False</td>\n",
              "    </tr>\n",
              "  </tbody>\n",
              "</table>\n",
              "<p>10000 rows × 10 columns</p>\n",
              "</div>"
            ],
            "text/plain": [
              "      reviewerID   asin  reviewerName  ...  summary  unixReviewTime  reviewTime\n",
              "0          False  False         False  ...    False           False       False\n",
              "1          False  False         False  ...    False           False       False\n",
              "2          False  False         False  ...    False           False       False\n",
              "3          False  False         False  ...    False           False       False\n",
              "4          False  False         False  ...    False           False       False\n",
              "...          ...    ...           ...  ...      ...             ...         ...\n",
              "9995       False  False         False  ...    False           False       False\n",
              "9996       False  False         False  ...    False           False       False\n",
              "9997       False  False         False  ...    False           False       False\n",
              "9998       False  False         False  ...    False           False       False\n",
              "9999       False  False         False  ...    False           False       False\n",
              "\n",
              "[10000 rows x 10 columns]"
            ]
          },
          "metadata": {
            "tags": []
          },
          "execution_count": 17
        }
      ]
    },
    {
      "cell_type": "code",
      "metadata": {
        "id": "CQErztgE7lHl",
        "outputId": "ffdb9966-fd18-4774-fcc2-56f24880a7f0",
        "colab": {
          "base_uri": "https://localhost:8080/",
          "height": 34
        }
      },
      "source": [
        "Sentiments=[]\n",
        "for num in Books_small['overall']:\n",
        "  if num>4.0:\n",
        "    Sentiments.append(\"Positive\")\n",
        "  else:\n",
        "    Sentiments.append(\"Negative\")\n",
        "print(len(Sentiments))"
      ],
      "execution_count": 18,
      "outputs": [
        {
          "output_type": "stream",
          "text": [
            "10000\n"
          ],
          "name": "stdout"
        }
      ]
    },
    {
      "cell_type": "code",
      "metadata": {
        "id": "BlENmwbKC4Zp",
        "outputId": "3d4814f1-4c4d-4c46-fc50-e21995fc5f9a",
        "colab": {
          "base_uri": "https://localhost:8080/",
          "height": 195
        }
      },
      "source": [
        "data={'Ratings':Books_small['overall'],'Sentiments':Sentiments,'Customer Reviews':Books_small['reviewText']}\n",
        "Target_Data=pd.DataFrame(data)\n",
        "Target_Data.sample(5)"
      ],
      "execution_count": 19,
      "outputs": [
        {
          "output_type": "execute_result",
          "data": {
            "text/html": [
              "<div>\n",
              "<style scoped>\n",
              "    .dataframe tbody tr th:only-of-type {\n",
              "        vertical-align: middle;\n",
              "    }\n",
              "\n",
              "    .dataframe tbody tr th {\n",
              "        vertical-align: top;\n",
              "    }\n",
              "\n",
              "    .dataframe thead th {\n",
              "        text-align: right;\n",
              "    }\n",
              "</style>\n",
              "<table border=\"1\" class=\"dataframe\">\n",
              "  <thead>\n",
              "    <tr style=\"text-align: right;\">\n",
              "      <th></th>\n",
              "      <th>Ratings</th>\n",
              "      <th>Sentiments</th>\n",
              "      <th>Customer Reviews</th>\n",
              "    </tr>\n",
              "  </thead>\n",
              "  <tbody>\n",
              "    <tr>\n",
              "      <th>2204</th>\n",
              "      <td>5</td>\n",
              "      <td>Positive</td>\n",
              "      <td>Whiskey Rebellion was very entertaining and a ...</td>\n",
              "    </tr>\n",
              "    <tr>\n",
              "      <th>2772</th>\n",
              "      <td>4</td>\n",
              "      <td>Negative</td>\n",
              "      <td>What do you get when you take a hot, tattooed ...</td>\n",
              "    </tr>\n",
              "    <tr>\n",
              "      <th>3471</th>\n",
              "      <td>5</td>\n",
              "      <td>Positive</td>\n",
              "      <td>Is God on the side of any nation that trashes ...</td>\n",
              "    </tr>\n",
              "    <tr>\n",
              "      <th>8172</th>\n",
              "      <td>4</td>\n",
              "      <td>Negative</td>\n",
              "      <td>This is the first of the Richard Sherlock book...</td>\n",
              "    </tr>\n",
              "    <tr>\n",
              "      <th>8316</th>\n",
              "      <td>3</td>\n",
              "      <td>Negative</td>\n",
              "      <td>I'M SURE THIS OIL IS VERY HEALTHY, BUT AFTER A...</td>\n",
              "    </tr>\n",
              "  </tbody>\n",
              "</table>\n",
              "</div>"
            ],
            "text/plain": [
              "      Ratings Sentiments                                   Customer Reviews\n",
              "2204        5   Positive  Whiskey Rebellion was very entertaining and a ...\n",
              "2772        4   Negative  What do you get when you take a hot, tattooed ...\n",
              "3471        5   Positive  Is God on the side of any nation that trashes ...\n",
              "8172        4   Negative  This is the first of the Richard Sherlock book...\n",
              "8316        3   Negative  I'M SURE THIS OIL IS VERY HEALTHY, BUT AFTER A..."
            ]
          },
          "metadata": {
            "tags": []
          },
          "execution_count": 19
        }
      ]
    },
    {
      "cell_type": "code",
      "metadata": {
        "id": "nITm2E4O2B9F"
      },
      "source": [
        "training,test=train_test_split(Target_Data,test_size=0.33,random_state=42,stratify=Target_Data['Sentiments'])"
      ],
      "execution_count": 20,
      "outputs": []
    },
    {
      "cell_type": "code",
      "metadata": {
        "id": "n9AIVNWqGD0f",
        "outputId": "4c71b147-04b4-45d1-cad1-78c4902bf55e",
        "colab": {
          "base_uri": "https://localhost:8080/",
          "height": 34
        }
      },
      "source": [
        "training.shape"
      ],
      "execution_count": 21,
      "outputs": [
        {
          "output_type": "execute_result",
          "data": {
            "text/plain": [
              "(6700, 3)"
            ]
          },
          "metadata": {
            "tags": []
          },
          "execution_count": 21
        }
      ]
    },
    {
      "cell_type": "code",
      "metadata": {
        "id": "kH08nIEv4GN2",
        "outputId": "ba9d31ea-21d1-4033-98ec-4041adaac698",
        "colab": {
          "base_uri": "https://localhost:8080/",
          "height": 34
        }
      },
      "source": [
        "test.shape"
      ],
      "execution_count": 22,
      "outputs": [
        {
          "output_type": "execute_result",
          "data": {
            "text/plain": [
              "(3300, 3)"
            ]
          },
          "metadata": {
            "tags": []
          },
          "execution_count": 22
        }
      ]
    },
    {
      "cell_type": "code",
      "metadata": {
        "id": "GgUBcS8v5ylV",
        "outputId": "d230a5d4-3f7a-43e1-fad8-04e9e16a7020",
        "colab": {
          "base_uri": "https://localhost:8080/",
          "height": 402
        }
      },
      "source": [
        "training"
      ],
      "execution_count": 23,
      "outputs": [
        {
          "output_type": "execute_result",
          "data": {
            "text/html": [
              "<div>\n",
              "<style scoped>\n",
              "    .dataframe tbody tr th:only-of-type {\n",
              "        vertical-align: middle;\n",
              "    }\n",
              "\n",
              "    .dataframe tbody tr th {\n",
              "        vertical-align: top;\n",
              "    }\n",
              "\n",
              "    .dataframe thead th {\n",
              "        text-align: right;\n",
              "    }\n",
              "</style>\n",
              "<table border=\"1\" class=\"dataframe\">\n",
              "  <thead>\n",
              "    <tr style=\"text-align: right;\">\n",
              "      <th></th>\n",
              "      <th>Ratings</th>\n",
              "      <th>Sentiments</th>\n",
              "      <th>Customer Reviews</th>\n",
              "    </tr>\n",
              "  </thead>\n",
              "  <tbody>\n",
              "    <tr>\n",
              "      <th>7205</th>\n",
              "      <td>1</td>\n",
              "      <td>Negative</td>\n",
              "      <td>I'm absolutely sick and tired of the man cheat...</td>\n",
              "    </tr>\n",
              "    <tr>\n",
              "      <th>6318</th>\n",
              "      <td>4</td>\n",
              "      <td>Negative</td>\n",
              "      <td>While Alice tries to &amp;#8220;find herself&amp;#8221...</td>\n",
              "    </tr>\n",
              "    <tr>\n",
              "      <th>6288</th>\n",
              "      <td>5</td>\n",
              "      <td>Positive</td>\n",
              "      <td>I found the stories contained in this set to b...</td>\n",
              "    </tr>\n",
              "    <tr>\n",
              "      <th>1042</th>\n",
              "      <td>5</td>\n",
              "      <td>Positive</td>\n",
              "      <td>Love the power these women portray and the hun...</td>\n",
              "    </tr>\n",
              "    <tr>\n",
              "      <th>4694</th>\n",
              "      <td>4</td>\n",
              "      <td>Negative</td>\n",
              "      <td>I like this book. It gives us a very healthy a...</td>\n",
              "    </tr>\n",
              "    <tr>\n",
              "      <th>...</th>\n",
              "      <td>...</td>\n",
              "      <td>...</td>\n",
              "      <td>...</td>\n",
              "    </tr>\n",
              "    <tr>\n",
              "      <th>7465</th>\n",
              "      <td>5</td>\n",
              "      <td>Positive</td>\n",
              "      <td>I started my online journey in 2009 and basica...</td>\n",
              "    </tr>\n",
              "    <tr>\n",
              "      <th>9250</th>\n",
              "      <td>4</td>\n",
              "      <td>Negative</td>\n",
              "      <td>My mom read this book as a child.  It was her ...</td>\n",
              "    </tr>\n",
              "    <tr>\n",
              "      <th>2599</th>\n",
              "      <td>4</td>\n",
              "      <td>Negative</td>\n",
              "      <td>again Dan Gookin assistance is great for someo...</td>\n",
              "    </tr>\n",
              "    <tr>\n",
              "      <th>9597</th>\n",
              "      <td>5</td>\n",
              "      <td>Positive</td>\n",
              "      <td>This is a great read. The return to  Broslin C...</td>\n",
              "    </tr>\n",
              "    <tr>\n",
              "      <th>9163</th>\n",
              "      <td>5</td>\n",
              "      <td>Positive</td>\n",
              "      <td>While this is deemed to be the last of the tri...</td>\n",
              "    </tr>\n",
              "  </tbody>\n",
              "</table>\n",
              "<p>6700 rows × 3 columns</p>\n",
              "</div>"
            ],
            "text/plain": [
              "      Ratings Sentiments                                   Customer Reviews\n",
              "7205        1   Negative  I'm absolutely sick and tired of the man cheat...\n",
              "6318        4   Negative  While Alice tries to &#8220;find herself&#8221...\n",
              "6288        5   Positive  I found the stories contained in this set to b...\n",
              "1042        5   Positive  Love the power these women portray and the hun...\n",
              "4694        4   Negative  I like this book. It gives us a very healthy a...\n",
              "...       ...        ...                                                ...\n",
              "7465        5   Positive  I started my online journey in 2009 and basica...\n",
              "9250        4   Negative  My mom read this book as a child.  It was her ...\n",
              "2599        4   Negative  again Dan Gookin assistance is great for someo...\n",
              "9597        5   Positive  This is a great read. The return to  Broslin C...\n",
              "9163        5   Positive  While this is deemed to be the last of the tri...\n",
              "\n",
              "[6700 rows x 3 columns]"
            ]
          },
          "metadata": {
            "tags": []
          },
          "execution_count": 23
        }
      ]
    },
    {
      "cell_type": "code",
      "metadata": {
        "id": "T3pK4MRR4zD0",
        "outputId": "37e80ea2-e513-4eea-f8aa-0d1700e09845",
        "colab": {
          "base_uri": "https://localhost:8080/",
          "height": 35
        }
      },
      "source": [
        "training['Customer Reviews'].iloc[3] #<---The Index Has Been Re-indexed When It Comes To iloc"
      ],
      "execution_count": 24,
      "outputs": [
        {
          "output_type": "execute_result",
          "data": {
            "application/vnd.google.colaboratory.intrinsic+json": {
              "type": "string"
            },
            "text/plain": [
              "'Love the power these women portray and the hunks that love them,'"
            ]
          },
          "metadata": {
            "tags": []
          },
          "execution_count": 24
        }
      ]
    },
    {
      "cell_type": "code",
      "metadata": {
        "id": "-61ND0X4Rkhc",
        "outputId": "4ec2d104-84ca-4ffd-da5b-8cefaed944a0",
        "colab": {
          "base_uri": "https://localhost:8080/",
          "height": 35
        }
      },
      "source": [
        "training['Sentiments'].iloc[3]"
      ],
      "execution_count": 25,
      "outputs": [
        {
          "output_type": "execute_result",
          "data": {
            "application/vnd.google.colaboratory.intrinsic+json": {
              "type": "string"
            },
            "text/plain": [
              "'Positive'"
            ]
          },
          "metadata": {
            "tags": []
          },
          "execution_count": 25
        }
      ]
    },
    {
      "cell_type": "code",
      "metadata": {
        "id": "cLqrkHoPSASp",
        "outputId": "415d981f-91f1-4bcd-902c-1e0a7a98e945",
        "colab": {
          "base_uri": "https://localhost:8080/",
          "height": 67
        }
      },
      "source": [
        "training['Sentiments'].value_counts() # <---Data Is Biased"
      ],
      "execution_count": 26,
      "outputs": [
        {
          "output_type": "execute_result",
          "data": {
            "text/plain": [
              "Positive    3973\n",
              "Negative    2727\n",
              "Name: Sentiments, dtype: int64"
            ]
          },
          "metadata": {
            "tags": []
          },
          "execution_count": 26
        }
      ]
    },
    {
      "cell_type": "markdown",
      "metadata": {
        "id": "5ISKzgldRXMe"
      },
      "source": [
        "**BAG OF WORDS**"
      ]
    },
    {
      "cell_type": "code",
      "metadata": {
        "id": "SN_Zz50FTq3Q"
      },
      "source": [
        "train_x=training['Customer Reviews']\n",
        "train_y=training['Sentiments']\n",
        "test_x=test['Customer Reviews']\n",
        "test_y=test['Sentiments']"
      ],
      "execution_count": 27,
      "outputs": []
    },
    {
      "cell_type": "code",
      "metadata": {
        "id": "AaPEaaGqintL",
        "outputId": "4c3f8022-a918-4a05-c185-5204049a2026",
        "colab": {
          "base_uri": "https://localhost:8080/",
          "height": 35
        }
      },
      "source": [
        "test_x.iloc[1]"
      ],
      "execution_count": 28,
      "outputs": [
        {
          "output_type": "execute_result",
          "data": {
            "application/vnd.google.colaboratory.intrinsic+json": {
              "type": "string"
            },
            "text/plain": [
              "\"I really enjoyed this book. I couldn't put this book down until I finished it. The characters were good and the story line volume good.\""
            ]
          },
          "metadata": {
            "tags": []
          },
          "execution_count": 28
        }
      ]
    },
    {
      "cell_type": "code",
      "metadata": {
        "id": "iqyzK5ziXHpG"
      },
      "source": [
        "vectorizer = TfidfVectorizer()\n",
        "train_xv = vectorizer.fit_transform(list(train_x))\n",
        "test_xv=vectorizer.transform(list(test_x))"
      ],
      "execution_count": 29,
      "outputs": []
    },
    {
      "cell_type": "code",
      "metadata": {
        "id": "FqatpzwpYkoP",
        "outputId": "c3f58b1a-116b-4ce6-8682-8183d84f25ca",
        "colab": {
          "base_uri": "https://localhost:8080/",
          "height": 34
        }
      },
      "source": [
        "train_xv.shape"
      ],
      "execution_count": 30,
      "outputs": [
        {
          "output_type": "execute_result",
          "data": {
            "text/plain": [
              "(6700, 26663)"
            ]
          },
          "metadata": {
            "tags": []
          },
          "execution_count": 30
        }
      ]
    },
    {
      "cell_type": "code",
      "metadata": {
        "id": "8Vpm1PQAnQQ5",
        "outputId": "20f97cfe-8a9e-4f2f-b1e5-4d4152d8daf9",
        "colab": {
          "base_uri": "https://localhost:8080/",
          "height": 34
        }
      },
      "source": [
        "test_xv.shape"
      ],
      "execution_count": 31,
      "outputs": [
        {
          "output_type": "execute_result",
          "data": {
            "text/plain": [
              "(3300, 26663)"
            ]
          },
          "metadata": {
            "tags": []
          },
          "execution_count": 31
        }
      ]
    },
    {
      "cell_type": "code",
      "metadata": {
        "id": "ny_7gRrFXLhR",
        "outputId": "a06fc7b1-547a-4cde-fcc8-193f16a42869",
        "colab": {
          "base_uri": "https://localhost:8080/",
          "height": 67
        }
      },
      "source": [
        "train_y.value_counts()"
      ],
      "execution_count": 32,
      "outputs": [
        {
          "output_type": "execute_result",
          "data": {
            "text/plain": [
              "Positive    3973\n",
              "Negative    2727\n",
              "Name: Sentiments, dtype: int64"
            ]
          },
          "metadata": {
            "tags": []
          },
          "execution_count": 32
        }
      ]
    },
    {
      "cell_type": "markdown",
      "metadata": {
        "id": "kllaMoJNqoGm"
      },
      "source": [
        "**TESTING ON MULTIPLE CLASSIFICATION ALGORITHMS**"
      ]
    },
    {
      "cell_type": "markdown",
      "metadata": {
        "id": "rZnL1Rv8xIhw"
      },
      "source": [
        "**LINEAR SVM**"
      ]
    },
    {
      "cell_type": "code",
      "metadata": {
        "id": "V0OAVCWJpICR",
        "outputId": "d777ecfa-4423-4e44-c246-173efb3eb933",
        "colab": {
          "base_uri": "https://localhost:8080/",
          "height": 34
        }
      },
      "source": [
        "clf_svm=svm.SVC(kernel='linear')\n",
        "clf_svm.fit(train_xv,train_y)\n",
        "clf_svm.predict(test_xv[1])"
      ],
      "execution_count": 33,
      "outputs": [
        {
          "output_type": "execute_result",
          "data": {
            "text/plain": [
              "array(['Positive'], dtype=object)"
            ]
          },
          "metadata": {
            "tags": []
          },
          "execution_count": 33
        }
      ]
    },
    {
      "cell_type": "markdown",
      "metadata": {
        "id": "wLThXp-ZxNMJ"
      },
      "source": [
        "**DECISION TREE**"
      ]
    },
    {
      "cell_type": "code",
      "metadata": {
        "id": "ladlCNgvql38",
        "outputId": "8d5e55cf-9bd8-4365-dfef-de61f29d4a66",
        "colab": {
          "base_uri": "https://localhost:8080/",
          "height": 34
        }
      },
      "source": [
        "clf_DecTree=DecisionTreeClassifier()\n",
        "clf_DecTree.fit(train_xv,train_y)\n",
        "clf_DecTree.predict(test_xv[1])"
      ],
      "execution_count": 34,
      "outputs": [
        {
          "output_type": "execute_result",
          "data": {
            "text/plain": [
              "array(['Positive'], dtype=object)"
            ]
          },
          "metadata": {
            "tags": []
          },
          "execution_count": 34
        }
      ]
    },
    {
      "cell_type": "markdown",
      "metadata": {
        "id": "EugiD7eD0Fqs"
      },
      "source": [
        "**LOGISTIC REGRESSION**"
      ]
    },
    {
      "cell_type": "code",
      "metadata": {
        "id": "LM5VcwAJ0K7z",
        "outputId": "fce133d9-5c25-4870-cf5f-9b52fdb44752",
        "colab": {
          "base_uri": "https://localhost:8080/",
          "height": 34
        }
      },
      "source": [
        "clf_log=LogisticRegression(max_iter=1000)\n",
        "clf_log.fit(train_xv,train_y)\n",
        "clf_log.predict(test_xv[1])"
      ],
      "execution_count": 35,
      "outputs": [
        {
          "output_type": "execute_result",
          "data": {
            "text/plain": [
              "array(['Positive'], dtype=object)"
            ]
          },
          "metadata": {
            "tags": []
          },
          "execution_count": 35
        }
      ]
    },
    {
      "cell_type": "markdown",
      "metadata": {
        "id": "wetPLP32xmuw"
      },
      "source": [
        "**NAIVE BAYES**"
      ]
    },
    {
      "cell_type": "code",
      "metadata": {
        "id": "JB41pJ5GsJpz",
        "outputId": "17f2dc61-f1ab-41fb-d203-ba2c50318005",
        "colab": {
          "base_uri": "https://localhost:8080/",
          "height": 34
        }
      },
      "source": [
        "clf_gnb=GaussianNB()\n",
        "clf_gnb.fit(train_xv.toarray(),train_y)\n",
        "clf_gnb.predict(test_xv[1].toarray())"
      ],
      "execution_count": 36,
      "outputs": [
        {
          "output_type": "execute_result",
          "data": {
            "text/plain": [
              "array(['Negative'], dtype='<U8')"
            ]
          },
          "metadata": {
            "tags": []
          },
          "execution_count": 36
        }
      ]
    },
    {
      "cell_type": "markdown",
      "metadata": {
        "id": "mOkGCXnwQAfv"
      },
      "source": [
        "**PERFORMANCE**"
      ]
    },
    {
      "cell_type": "markdown",
      "metadata": {
        "id": "FSLC1R-6RpmA"
      },
      "source": [
        "MEAN ACCURACY"
      ]
    },
    {
      "cell_type": "code",
      "metadata": {
        "id": "8YkzJgA3x9dX",
        "outputId": "1603d157-45b0-4f21-c265-1e81ac039516",
        "colab": {
          "base_uri": "https://localhost:8080/",
          "height": 34
        }
      },
      "source": [
        "clf_svm.score(test_xv,test_y)"
      ],
      "execution_count": 37,
      "outputs": [
        {
          "output_type": "execute_result",
          "data": {
            "text/plain": [
              "0.7306060606060606"
            ]
          },
          "metadata": {
            "tags": []
          },
          "execution_count": 37
        }
      ]
    },
    {
      "cell_type": "code",
      "metadata": {
        "id": "T8ORIrpRyACb",
        "outputId": "f94c8bae-d202-48f8-f9bb-8dc7b2847c4a",
        "colab": {
          "base_uri": "https://localhost:8080/",
          "height": 34
        }
      },
      "source": [
        "clf_DecTree.score(test_xv,test_y)"
      ],
      "execution_count": 38,
      "outputs": [
        {
          "output_type": "execute_result",
          "data": {
            "text/plain": [
              "0.6142424242424243"
            ]
          },
          "metadata": {
            "tags": []
          },
          "execution_count": 38
        }
      ]
    },
    {
      "cell_type": "code",
      "metadata": {
        "id": "rY_l2k34yT8e",
        "outputId": "56ce373c-f2f8-4956-d916-2081ea5e609c",
        "colab": {
          "base_uri": "https://localhost:8080/",
          "height": 34
        }
      },
      "source": [
        "clf_gnb.score(test_xv.toarray(),test_y)"
      ],
      "execution_count": 39,
      "outputs": [
        {
          "output_type": "execute_result",
          "data": {
            "text/plain": [
              "0.5187878787878788"
            ]
          },
          "metadata": {
            "tags": []
          },
          "execution_count": 39
        }
      ]
    },
    {
      "cell_type": "code",
      "metadata": {
        "id": "_kxR_l_sO2-g",
        "outputId": "2debbc7a-02ed-415e-cbc4-12109dc5a989",
        "colab": {
          "base_uri": "https://localhost:8080/",
          "height": 34
        }
      },
      "source": [
        "clf_log.score(test_xv,test_y)"
      ],
      "execution_count": 40,
      "outputs": [
        {
          "output_type": "execute_result",
          "data": {
            "text/plain": [
              "0.733030303030303"
            ]
          },
          "metadata": {
            "tags": []
          },
          "execution_count": 40
        }
      ]
    },
    {
      "cell_type": "markdown",
      "metadata": {
        "id": "gYyZzmfsRzRe"
      },
      "source": [
        "F-1 SCORE"
      ]
    },
    {
      "cell_type": "code",
      "metadata": {
        "id": "tHbUtzKVQGDg",
        "outputId": "57a8862a-e32e-4ef2-8230-cb3461bc18ad",
        "colab": {
          "base_uri": "https://localhost:8080/",
          "height": 34
        }
      },
      "source": [
        "f1_score(test_y,clf_svm.predict(test_xv),average=None)"
      ],
      "execution_count": 41,
      "outputs": [
        {
          "output_type": "execute_result",
          "data": {
            "text/plain": [
              "array([0.64482621, 0.78301196])"
            ]
          },
          "metadata": {
            "tags": []
          },
          "execution_count": 41
        }
      ]
    },
    {
      "cell_type": "code",
      "metadata": {
        "id": "DRXaO9bKV8bU",
        "outputId": "783d04be-ba69-4b3e-92a1-b68d294bba1b",
        "colab": {
          "base_uri": "https://localhost:8080/",
          "height": 34
        }
      },
      "source": [
        "f1_score(test_y,clf_DecTree.predict(test_xv),average=None)"
      ],
      "execution_count": 42,
      "outputs": [
        {
          "output_type": "execute_result",
          "data": {
            "text/plain": [
              "array([0.52304234, 0.67616383])"
            ]
          },
          "metadata": {
            "tags": []
          },
          "execution_count": 42
        }
      ]
    },
    {
      "cell_type": "code",
      "metadata": {
        "id": "RBancanEWGcY",
        "outputId": "a63a48f3-4a19-4470-f48b-1812d1314237",
        "colab": {
          "base_uri": "https://localhost:8080/",
          "height": 34
        }
      },
      "source": [
        "f1_score(test_y,clf_log.predict(test_xv),average=None)"
      ],
      "execution_count": 43,
      "outputs": [
        {
          "output_type": "execute_result",
          "data": {
            "text/plain": [
              "array([0.63519669, 0.78948626])"
            ]
          },
          "metadata": {
            "tags": []
          },
          "execution_count": 43
        }
      ]
    },
    {
      "cell_type": "code",
      "metadata": {
        "id": "dq8d3eYhWMSl",
        "outputId": "98755d41-1e3c-4b95-d77d-e34c0e36ccd4",
        "colab": {
          "base_uri": "https://localhost:8080/",
          "height": 34
        }
      },
      "source": [
        "f1_score(test_y,clf_gnb.predict(test_xv.toarray()),average=None)"
      ],
      "execution_count": 44,
      "outputs": [
        {
          "output_type": "execute_result",
          "data": {
            "text/plain": [
              "array([0.51761847, 0.51995163])"
            ]
          },
          "metadata": {
            "tags": []
          },
          "execution_count": 44
        }
      ]
    },
    {
      "cell_type": "markdown",
      "metadata": {
        "id": "Zt3IDWkQU_Y9"
      },
      "source": [
        "**RESULT**"
      ]
    },
    {
      "cell_type": "code",
      "metadata": {
        "id": "mkoloFt4t7t8",
        "outputId": "72abf6c0-c9d4-45e5-8111-6a8b49b1fea6",
        "colab": {
          "base_uri": "https://localhost:8080/",
          "height": 34
        }
      },
      "source": [
        "example=['do not buy this bad book', ' love this Book','impressive book']\n",
        "example=vectorizer.transform(example)\n",
        "clf_svm.predict(example)"
      ],
      "execution_count": 45,
      "outputs": [
        {
          "output_type": "execute_result",
          "data": {
            "text/plain": [
              "array(['Negative', 'Positive', 'Positive'], dtype=object)"
            ]
          },
          "metadata": {
            "tags": []
          },
          "execution_count": 45
        }
      ]
    }
  ]
}